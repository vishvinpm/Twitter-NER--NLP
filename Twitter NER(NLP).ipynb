{
 "cells": [
  {
   "cell_type": "markdown",
   "id": "f491b1f5-1e72-4a23-8401-6a4303f6d038",
   "metadata": {},
   "source": [
    "# 📊**Twitter NER**\n",
    "\n",
    "## 📝 **Metadata**\n",
    "\n",
    "**Notebook Title:** NLP: Twitter NER   \n",
    "**Author:** Vishnu Vineeth P M\n",
    "\n",
    "**Date Created:** May 2025   \n",
    "**Tools Used:** Python, Pandas, Scikit-learn, Tensorflow  \n",
    "**Objective:** To train models that can accurately perform Named Entity Recognition (NER) on tweet data."
   ]
  },
  {
   "cell_type": "markdown",
   "id": "8b071ad7-c3cb-4b63-bc98-54182f62e528",
   "metadata": {},
   "source": [
    "## 📝**Introduction**\n",
    "\n",
    "Twitter is a microblogging and social networking service on which users post and interact with messages known as \"tweets\". Every second, on average, around 6,000 tweets are tweeted on Twitter, corresponding to over 350,000 tweets sent per minute, 500 million tweets per day.\n",
    "\n",
    "Twitter wants to automatically tag and analyze tweets for better understanding of the trends and topics without being dependent on the hashtags that the users use. Many users do not use hashtags or sometimes use wrong or mis-spelled tags, so they want to completely remove this problem and create a system of recognizing important content of the tweets.\n",
    "\n",
    "\n",
    "Named Entity Recognition (NER) is an important subtask of information extraction that seeks to locate and recognise named entities.\n"
   ]
  },
  {
   "cell_type": "markdown",
   "id": "65896350-73a8-4ed8-a7b3-f55628a96b59",
   "metadata": {},
   "source": [
    "## **Data description**\n",
    "\n",
    "Dataset is annotated with 10 fine-grained NER categories: person, geo-location, company, facility, product,music artist, movie, sports team, tv show and other. Dataset was extracted from tweets and is structured in CoNLL format., in English language. Containing in Text file format.\n",
    "\n",
    "The CoNLL format is a text file with one word per line with sentences separated by an empty line. The first word in a line should be the word and the last word should be the label.\n",
    "\n",
    "**Consider the two sentences below;**\n",
    "\n",
    "Harry Potter was a student living in london\n",
    "\n",
    "Albus Dumbledore went to the Disney World\n",
    "\n",
    "These two sentences can be prepared in a CoNLL formatted text file as follows.\n",
    "\n",
    "1. Harry B-PER\n",
    "\n",
    "2. Potter I-PER\n",
    "\n",
    "3. was O\n",
    "\n",
    "4. a O\n",
    "\n",
    "5. student O\n",
    "\n",
    "6. Living O\n",
    "\n",
    "7. in O\n",
    "\n",
    "8. London B-geo-loc\n",
    "\n",
    "\n",
    "9. Albus B-PER\n",
    "\n",
    "10. Dumbledore I-PER\n",
    "\n",
    "11. went O\n",
    "\n",
    "12. to O\n",
    "\n",
    "13. the O\n",
    "\n",
    "14. Disney B-facility\n",
    "\n",
    "15. World I-facility"
   ]
  },
  {
   "cell_type": "markdown",
   "id": "18ec5f56-c874-47f5-a2e7-82b360809221",
   "metadata": {},
   "source": [
    "## **Importing necessary libraries**"
   ]
  },
  {
   "cell_type": "code",
   "execution_count": 1,
   "id": "f9996443-9c98-47ee-9861-3f7c69f23899",
   "metadata": {},
   "outputs": [
    {
     "name": "stdout",
     "output_type": "stream",
     "text": [
      "Defaulting to user installation because normal site-packages is not writeable\n",
      "Requirement already satisfied: gensim in c:\\programdata\\anaconda3\\lib\\site-packages (4.3.0)\n",
      "Requirement already satisfied: numpy>=1.18.5 in c:\\users\\vishnu\\appdata\\roaming\\python\\python311\\site-packages (from gensim) (1.23.5)\n",
      "Requirement already satisfied: scipy>=1.7.0 in c:\\users\\vishnu\\appdata\\roaming\\python\\python311\\site-packages (from gensim) (1.10.1)\n",
      "Requirement already satisfied: smart-open>=1.8.1 in c:\\programdata\\anaconda3\\lib\\site-packages (from gensim) (5.2.1)\n",
      "Collecting FuzzyTM>=0.4.0 (from gensim)\n",
      "  Using cached FuzzyTM-2.0.9-py3-none-any.whl.metadata (7.9 kB)\n",
      "Requirement already satisfied: pandas in c:\\users\\vishnu\\appdata\\roaming\\python\\python311\\site-packages (from FuzzyTM>=0.4.0->gensim) (2.2.3)\n",
      "Collecting pyfume (from FuzzyTM>=0.4.0->gensim)\n",
      "  Using cached pyFUME-0.3.4-py3-none-any.whl.metadata (9.7 kB)\n",
      "Requirement already satisfied: python-dateutil>=2.8.2 in c:\\users\\vishnu\\appdata\\roaming\\python\\python311\\site-packages (from pandas->FuzzyTM>=0.4.0->gensim) (2.9.0.post0)\n",
      "Requirement already satisfied: pytz>=2020.1 in c:\\users\\vishnu\\appdata\\roaming\\python\\python311\\site-packages (from pandas->FuzzyTM>=0.4.0->gensim) (2025.2)\n",
      "Requirement already satisfied: tzdata>=2022.7 in c:\\users\\vishnu\\appdata\\roaming\\python\\python311\\site-packages (from pandas->FuzzyTM>=0.4.0->gensim) (2025.2)\n",
      "Requirement already satisfied: six>=1.5 in c:\\users\\vishnu\\appdata\\roaming\\python\\python311\\site-packages (from python-dateutil>=2.8.2->pandas->FuzzyTM>=0.4.0->gensim) (1.17.0)\n",
      "Collecting numpy>=1.18.5 (from gensim)\n",
      "  Using cached numpy-1.24.4-cp311-cp311-win_amd64.whl.metadata (5.6 kB)\n",
      "Collecting simpful==2.12.0 (from pyfume->FuzzyTM>=0.4.0->gensim)\n",
      "  Using cached simpful-2.12.0-py3-none-any.whl.metadata (4.8 kB)\n",
      "Collecting fst-pso==1.8.1 (from pyfume->FuzzyTM>=0.4.0->gensim)\n",
      "  Using cached fst-pso-1.8.1.tar.gz (18 kB)\n",
      "  Preparing metadata (setup.py): started\n",
      "  Preparing metadata (setup.py): finished with status 'error'\n"
     ]
    },
    {
     "name": "stderr",
     "output_type": "stream",
     "text": [
      "  error: subprocess-exited-with-error\n",
      "  \n",
      "  python setup.py egg_info did not run successfully.\n",
      "  exit code: 1\n",
      "  \n",
      "  [14 lines of output]\n",
      "  ERROR: Can not execute `setup.py` since setuptools failed to import in the build environment with exception:\n",
      "  Traceback (most recent call last):\n",
      "    File \"<pip-setuptools-caller>\", line 14, in <module>\n",
      "    File \"C:\\Users\\Vishnu\\AppData\\Roaming\\Python\\Python311\\site-packages\\setuptools\\__init__.py\", line 26, in <module>\n",
      "      from .dist import Distribution\n",
      "    File \"C:\\Users\\Vishnu\\AppData\\Roaming\\Python\\Python311\\site-packages\\setuptools\\dist.py\", line 20, in <module>\n",
      "      from . import (\n",
      "    File \"C:\\Users\\Vishnu\\AppData\\Roaming\\Python\\Python311\\site-packages\\setuptools\\_entry_points.py\", line 6, in <module>\n",
      "      from jaraco.text import yield_lines\n",
      "    File \"C:\\Users\\Vishnu\\AppData\\Roaming\\Python\\Python311\\site-packages\\setuptools\\_vendor\\jaraco\\text\\__init__.py\", line 12, in <module>\n",
      "      from jaraco.context import ExceptionTrap\n",
      "    File \"C:\\Users\\Vishnu\\AppData\\Roaming\\Python\\Python311\\site-packages\\setuptools\\_vendor\\jaraco\\context.py\", line 17, in <module>\n",
      "      from backports import tarfile\n",
      "  ImportError: cannot import name 'tarfile' from 'backports' (C:\\ProgramData\\anaconda3\\Lib\\site-packages\\backports\\__init__.py)\n",
      "  [end of output]\n",
      "  \n",
      "  note: This error originates from a subprocess, and is likely not a problem with pip.\n",
      "error: metadata-generation-failed\n",
      "\n",
      "Encountered error while generating package metadata.\n",
      "\n",
      "See above for output.\n",
      "\n",
      "note: This is an issue with the package mentioned above, not pip.\n",
      "hint: See above for details.\n"
     ]
    },
    {
     "name": "stdout",
     "output_type": "stream",
     "text": [
      "Defaulting to user installation because normal site-packages is not writeable\n",
      "Requirement already satisfied: evaluate in c:\\users\\vishnu\\appdata\\roaming\\python\\python311\\site-packages (0.4.3)\n",
      "Requirement already satisfied: datasets>=2.0.0 in c:\\users\\vishnu\\appdata\\roaming\\python\\python311\\site-packages (from evaluate) (3.6.0)\n",
      "Requirement already satisfied: numpy>=1.17 in c:\\users\\vishnu\\appdata\\roaming\\python\\python311\\site-packages (from evaluate) (1.23.5)\n",
      "Requirement already satisfied: dill in c:\\users\\vishnu\\appdata\\roaming\\python\\python311\\site-packages (from evaluate) (0.3.8)\n",
      "Requirement already satisfied: pandas in c:\\users\\vishnu\\appdata\\roaming\\python\\python311\\site-packages (from evaluate) (2.2.3)\n",
      "Requirement already satisfied: requests>=2.19.0 in c:\\users\\vishnu\\appdata\\roaming\\python\\python311\\site-packages (from evaluate) (2.32.3)\n",
      "Requirement already satisfied: tqdm>=4.62.1 in c:\\users\\vishnu\\appdata\\roaming\\python\\python311\\site-packages (from evaluate) (4.67.1)\n",
      "Requirement already satisfied: xxhash in c:\\users\\vishnu\\appdata\\roaming\\python\\python311\\site-packages (from evaluate) (3.5.0)\n",
      "Requirement already satisfied: multiprocess in c:\\users\\vishnu\\appdata\\roaming\\python\\python311\\site-packages (from evaluate) (0.70.16)\n",
      "Requirement already satisfied: fsspec>=2021.05.0 in c:\\programdata\\anaconda3\\lib\\site-packages (from fsspec[http]>=2021.05.0->evaluate) (2023.10.0)\n",
      "Requirement already satisfied: huggingface-hub>=0.7.0 in c:\\users\\vishnu\\appdata\\roaming\\python\\python311\\site-packages (from evaluate) (0.31.1)\n",
      "Requirement already satisfied: packaging in c:\\users\\vishnu\\appdata\\roaming\\python\\python311\\site-packages (from evaluate) (25.0)\n",
      "Requirement already satisfied: filelock in c:\\programdata\\anaconda3\\lib\\site-packages (from datasets>=2.0.0->evaluate) (3.13.1)\n",
      "Requirement already satisfied: pyarrow>=15.0.0 in c:\\users\\vishnu\\appdata\\roaming\\python\\python311\\site-packages (from datasets>=2.0.0->evaluate) (20.0.0)\n",
      "Requirement already satisfied: pyyaml>=5.1 in c:\\programdata\\anaconda3\\lib\\site-packages (from datasets>=2.0.0->evaluate) (6.0.1)\n",
      "Requirement already satisfied: aiohttp!=4.0.0a0,!=4.0.0a1 in c:\\programdata\\anaconda3\\lib\\site-packages (from fsspec[http]>=2021.05.0->evaluate) (3.9.3)\n",
      "Requirement already satisfied: aiosignal>=1.1.2 in c:\\programdata\\anaconda3\\lib\\site-packages (from aiohttp!=4.0.0a0,!=4.0.0a1->fsspec[http]>=2021.05.0->evaluate) (1.2.0)\n",
      "Requirement already satisfied: attrs>=17.3.0 in c:\\programdata\\anaconda3\\lib\\site-packages (from aiohttp!=4.0.0a0,!=4.0.0a1->fsspec[http]>=2021.05.0->evaluate) (23.1.0)\n",
      "Requirement already satisfied: frozenlist>=1.1.1 in c:\\programdata\\anaconda3\\lib\\site-packages (from aiohttp!=4.0.0a0,!=4.0.0a1->fsspec[http]>=2021.05.0->evaluate) (1.4.0)\n",
      "Requirement already satisfied: multidict<7.0,>=4.5 in c:\\programdata\\anaconda3\\lib\\site-packages (from aiohttp!=4.0.0a0,!=4.0.0a1->fsspec[http]>=2021.05.0->evaluate) (6.0.4)\n",
      "Requirement already satisfied: yarl<2.0,>=1.0 in c:\\programdata\\anaconda3\\lib\\site-packages (from aiohttp!=4.0.0a0,!=4.0.0a1->fsspec[http]>=2021.05.0->evaluate) (1.9.3)\n",
      "Requirement already satisfied: idna>=2.0 in c:\\users\\vishnu\\appdata\\roaming\\python\\python311\\site-packages (from yarl<2.0,>=1.0->aiohttp!=4.0.0a0,!=4.0.0a1->fsspec[http]>=2021.05.0->evaluate) (3.10)\n",
      "Requirement already satisfied: typing-extensions>=3.7.4.3 in c:\\users\\vishnu\\appdata\\roaming\\python\\python311\\site-packages (from huggingface-hub>=0.7.0->evaluate) (4.13.2)\n",
      "Requirement already satisfied: charset-normalizer<4,>=2 in c:\\users\\vishnu\\appdata\\roaming\\python\\python311\\site-packages (from requests>=2.19.0->evaluate) (3.4.2)\n",
      "Requirement already satisfied: urllib3<3,>=1.21.1 in c:\\users\\vishnu\\appdata\\roaming\\python\\python311\\site-packages (from requests>=2.19.0->evaluate) (2.4.0)\n",
      "Requirement already satisfied: certifi>=2017.4.17 in c:\\users\\vishnu\\appdata\\roaming\\python\\python311\\site-packages (from requests>=2.19.0->evaluate) (2025.4.26)\n",
      "Requirement already satisfied: colorama in c:\\programdata\\anaconda3\\lib\\site-packages (from tqdm>=4.62.1->evaluate) (0.4.6)\n",
      "Requirement already satisfied: python-dateutil>=2.8.2 in c:\\users\\vishnu\\appdata\\roaming\\python\\python311\\site-packages (from pandas->evaluate) (2.9.0.post0)\n",
      "Requirement already satisfied: pytz>=2020.1 in c:\\users\\vishnu\\appdata\\roaming\\python\\python311\\site-packages (from pandas->evaluate) (2025.2)\n",
      "Requirement already satisfied: tzdata>=2022.7 in c:\\users\\vishnu\\appdata\\roaming\\python\\python311\\site-packages (from pandas->evaluate) (2025.2)\n",
      "Requirement already satisfied: six>=1.5 in c:\\users\\vishnu\\appdata\\roaming\\python\\python311\\site-packages (from python-dateutil>=2.8.2->pandas->evaluate) (1.17.0)\n"
     ]
    }
   ],
   "source": [
    "!pip install gensim\n",
    "#!pip install --upgrade pip setuptools wheel\n",
    "!pip install transformers datasets seqeval -q\n",
    "!pip install evaluate"
   ]
  },
  {
   "cell_type": "code",
   "execution_count": 2,
   "id": "6bab3bfe-939d-402a-ab9f-061b71a961b5",
   "metadata": {},
   "outputs": [
    {
     "name": "stderr",
     "output_type": "stream",
     "text": [
      "C:\\Users\\Vishnu\\AppData\\Roaming\\Python\\Python311\\site-packages\\tensorflow_addons\\utils\\tfa_eol_msg.py:23: UserWarning: \n",
      "\n",
      "TensorFlow Addons (TFA) has ended development and introduction of new features.\n",
      "TFA has entered a minimal maintenance and release mode until a planned end of life in May 2024.\n",
      "Please modify downstream libraries to take dependencies from other repositories in our TensorFlow community (e.g. Keras, Keras-CV, and Keras-NLP). \n",
      "\n",
      "For more information see: https://github.com/tensorflow/addons/issues/2807 \n",
      "\n",
      "  warnings.warn(\n"
     ]
    }
   ],
   "source": [
    "import pandas as pd\n",
    "import numpy as np\n",
    "import tensorflow as tf\n",
    "import seaborn as sns\n",
    "import matplotlib.pyplot as plt\n",
    "\n",
    "from sklearn.metrics import classification_report, accuracy_score, confusion_matrix\n",
    "from sklearn.model_selection import train_test_split\n",
    "import random\n",
    "\n",
    "from tensorflow.keras.preprocessing.sequence import pad_sequences\n",
    "from tensorflow.keras.utils import to_categorical\n",
    "from tensorflow.keras.models import Model\n",
    "from tensorflow.keras.layers import Input, Embedding, Bidirectional, LSTM, TimeDistributed, Dense\n",
    "from tensorflow_addons.layers import CRF\n",
    "from tensorflow_addons.optimizers import AdamW\n",
    "from tensorflow_addons.losses import SigmoidFocalCrossEntropy\n",
    "\n",
    "from gensim.models import Word2Vec\n",
    "\n",
    "\n",
    "import warnings\n",
    "warnings.filterwarnings(\"ignore\")\n"
   ]
  },
  {
   "cell_type": "code",
   "execution_count": 3,
   "id": "2b13eeb1-8f48-4d69-95f5-6a4c9fb5fd08",
   "metadata": {},
   "outputs": [
    {
     "name": "stdout",
     "output_type": "stream",
     "text": [
      "TensorFlow is not built with CUDA support.\n",
      "CUDA is not available.\n"
     ]
    }
   ],
   "source": [
    "import tensorflow as tf\n",
    "\n",
    "# Check if TensorFlow is built with CUDA support\n",
    "if tf.test.is_built_with_cuda():\n",
    "    print(\"TensorFlow is built with CUDA support.\")\n",
    "else:\n",
    "    print(\"TensorFlow is not built with CUDA support.\")\n",
    "\n",
    "# Check if a GPU is available and visible\n",
    "if tf.config.list_physical_devices('GPU'):\n",
    "    print(\"CUDA is available.\")\n",
    "else:\n",
    "    print(\"CUDA is not available.\")\n"
   ]
  },
  {
   "cell_type": "code",
   "execution_count": 4,
   "id": "82cfa3dd-83eb-413e-ae4c-48f327619b84",
   "metadata": {},
   "outputs": [
    {
     "name": "stdout",
     "output_type": "stream",
     "text": [
      "WARNING:tensorflow:From C:\\Users\\Vishnu\\AppData\\Local\\Temp\\ipykernel_11332\\621211035.py:2: is_gpu_available (from tensorflow.python.framework.test_util) is deprecated and will be removed in a future version.\n",
      "Instructions for updating:\n",
      "Use `tf.config.list_physical_devices('GPU')` instead.\n"
     ]
    }
   ],
   "source": [
    "# Hyperparams if GPU is available\n",
    "if tf.test.is_gpu_available():\n",
    " BATCH_SIZE = 512 # Number of examples used in each iteration\n",
    " EPOCHS = 5 # Number of passes through entire dataset\n",
    " MAX_LEN = 75 # Max length of review (in words)\n",
    " EMBEDDING = 40 # Dimension of word embedding vector\n",
    "\n",
    "# Hyperparams for CPU training\n",
    "else:\n",
    " BATCH_SIZE = 32\n",
    " EPOCHS = 5\n",
    " MAX_LEN = 75\n",
    " EMBEDDING = 20"
   ]
  },
  {
   "cell_type": "markdown",
   "id": "dad3172e-755a-46ce-a124-07f7c5286d91",
   "metadata": {},
   "source": [
    "## Data Preprocessing"
   ]
  },
  {
   "cell_type": "code",
   "execution_count": 5,
   "id": "f5ab1e6b-85cb-42d0-b126-0e9b10db2ef5",
   "metadata": {},
   "outputs": [],
   "source": [
    "#let us see the dataset\n",
    "def read_conll(file_path):\n",
    "    \n",
    "    sentences = []    #list to store all the sentences\n",
    "    sentence = []     #list to store tokens(word, tag) for current sentence\n",
    "    \n",
    "    with open(file_path, 'r', encoding='utf-8') as file:\n",
    "        for line in file:\n",
    "            line = line.strip()              #remove any white spaces\n",
    "            if line:                            #if line not empty\n",
    "                token, tag = line.split('\\t')   #split the line into token and tags\n",
    "                sentence.append((token, tag))   #add token and tag into sentence\n",
    "            else:                               #if the line is empty (end of sentence)\n",
    "                if sentence:                  \n",
    "                    sentences.append(sentence)  #save the complete sentence\n",
    "                    sentence = []               #reset for next sentence\n",
    "    return sentences"
   ]
  },
  {
   "cell_type": "code",
   "execution_count": 6,
   "id": "13074ea3-5c12-4eb1-867e-2cab72f26a3f",
   "metadata": {},
   "outputs": [
    {
     "data": {
      "text/plain": [
       "[('@SammieLynnsMom', 'O'),\n",
       " ('@tg10781', 'O'),\n",
       " ('they', 'O'),\n",
       " ('will', 'O'),\n",
       " ('be', 'O'),\n",
       " ('all', 'O'),\n",
       " ('done', 'O'),\n",
       " ('by', 'O'),\n",
       " ('Sunday', 'O'),\n",
       " ('trust', 'O'),\n",
       " ('me', 'O'),\n",
       " ('*wink*', 'O')]"
      ]
     },
     "execution_count": 6,
     "metadata": {},
     "output_type": "execute_result"
    }
   ],
   "source": [
    "data = read_conll(\"wnut 16.txt.conll\")\n",
    "data[0]\n"
   ]
  },
  {
   "cell_type": "code",
   "execution_count": 7,
   "id": "1c7dcf16-3852-4ed5-ac8c-f459e3c860b7",
   "metadata": {},
   "outputs": [
    {
     "data": {
      "text/plain": [
       "[(\"'\", 'O'),\n",
       " ('Breaking', 'B-movie'),\n",
       " ('Dawn', 'I-movie'),\n",
       " (\"'\", 'O'),\n",
       " ('Returns', 'O'),\n",
       " ('to', 'O'),\n",
       " ('Vancouver', 'B-geo-loc'),\n",
       " ('on', 'O'),\n",
       " ('January', 'O'),\n",
       " ('11th', 'O'),\n",
       " ('http://bit.ly/dbDMs8', 'O')]"
      ]
     },
     "execution_count": 7,
     "metadata": {},
     "output_type": "execute_result"
    }
   ],
   "source": [
    "data[2]"
   ]
  },
  {
   "cell_type": "code",
   "execution_count": 8,
   "id": "ad84a89b-6867-43a1-b936-3eb6940f45cf",
   "metadata": {},
   "outputs": [
    {
     "data": {
      "text/plain": [
       "2393"
      ]
     },
     "execution_count": 8,
     "metadata": {},
     "output_type": "execute_result"
    }
   ],
   "source": [
    "#length of the data\n",
    "len(data)"
   ]
  },
  {
   "cell_type": "markdown",
   "id": "4db02b9b-e6fb-4476-a3be-adcd18c3e67f",
   "metadata": {},
   "source": [
    "### Data Transformation for NER"
   ]
  },
  {
   "cell_type": "code",
   "execution_count": 9,
   "id": "c24e8e83-164b-4224-aaae-4e3e5e142adc",
   "metadata": {},
   "outputs": [
    {
     "data": {
      "text/html": [
       "<div>\n",
       "<style scoped>\n",
       "    .dataframe tbody tr th:only-of-type {\n",
       "        vertical-align: middle;\n",
       "    }\n",
       "\n",
       "    .dataframe tbody tr th {\n",
       "        vertical-align: top;\n",
       "    }\n",
       "\n",
       "    .dataframe thead th {\n",
       "        text-align: right;\n",
       "    }\n",
       "</style>\n",
       "<table border=\"1\" class=\"dataframe\">\n",
       "  <thead>\n",
       "    <tr style=\"text-align: right;\">\n",
       "      <th></th>\n",
       "      <th>Token</th>\n",
       "      <th>Tag</th>\n",
       "    </tr>\n",
       "  </thead>\n",
       "  <tbody>\n",
       "    <tr>\n",
       "      <th>0</th>\n",
       "      <td>@SammieLynnsMom</td>\n",
       "      <td>O</td>\n",
       "    </tr>\n",
       "    <tr>\n",
       "      <th>1</th>\n",
       "      <td>@tg10781</td>\n",
       "      <td>O</td>\n",
       "    </tr>\n",
       "    <tr>\n",
       "      <th>2</th>\n",
       "      <td>they</td>\n",
       "      <td>O</td>\n",
       "    </tr>\n",
       "    <tr>\n",
       "      <th>3</th>\n",
       "      <td>will</td>\n",
       "      <td>O</td>\n",
       "    </tr>\n",
       "    <tr>\n",
       "      <th>4</th>\n",
       "      <td>be</td>\n",
       "      <td>O</td>\n",
       "    </tr>\n",
       "  </tbody>\n",
       "</table>\n",
       "</div>"
      ],
      "text/plain": [
       "             Token Tag\n",
       "0  @SammieLynnsMom   O\n",
       "1         @tg10781   O\n",
       "2             they   O\n",
       "3             will   O\n",
       "4               be   O"
      ]
     },
     "execution_count": 9,
     "metadata": {},
     "output_type": "execute_result"
    }
   ],
   "source": [
    "#converting to dataframe\n",
    "df = pd.DataFrame([(token, tag) for value in data for token, tag in value], columns = [\"Token\", \"Tag\"])\n",
    "df.head()"
   ]
  },
  {
   "cell_type": "markdown",
   "id": "3452aaf2-8646-479c-b34a-bd13505e412c",
   "metadata": {},
   "source": [
    "## Exploratory Data Analysis"
   ]
  },
  {
   "cell_type": "code",
   "execution_count": 10,
   "id": "e683aaa5-7ce2-43c2-8896-10a621790468",
   "metadata": {},
   "outputs": [
    {
     "data": {
      "text/plain": [
       "(46462, 2)"
      ]
     },
     "execution_count": 10,
     "metadata": {},
     "output_type": "execute_result"
    }
   ],
   "source": [
    "df.shape"
   ]
  },
  {
   "cell_type": "code",
   "execution_count": 11,
   "id": "2d507ec9-2547-46d0-b491-37724bfe9da8",
   "metadata": {},
   "outputs": [
    {
     "name": "stdout",
     "output_type": "stream",
     "text": [
      "<class 'pandas.core.frame.DataFrame'>\n",
      "RangeIndex: 46462 entries, 0 to 46461\n",
      "Data columns (total 2 columns):\n",
      " #   Column  Non-Null Count  Dtype \n",
      "---  ------  --------------  ----- \n",
      " 0   Token   46462 non-null  object\n",
      " 1   Tag     46462 non-null  object\n",
      "dtypes: object(2)\n",
      "memory usage: 726.1+ KB\n"
     ]
    }
   ],
   "source": [
    "df.info()"
   ]
  },
  {
   "cell_type": "code",
   "execution_count": 12,
   "id": "9e52e35c-90c2-4b14-be5c-7cb7d234c1e0",
   "metadata": {},
   "outputs": [
    {
     "name": "stdout",
     "output_type": "stream",
     "text": [
      "There are 2393 sentences\n"
     ]
    }
   ],
   "source": [
    "#number of sentences\n",
    "print(f\"There are {len(data)} sentences\")"
   ]
  },
  {
   "cell_type": "code",
   "execution_count": 13,
   "id": "8e838615-40c6-4c93-9534-0510e0caf79c",
   "metadata": {},
   "outputs": [
    {
     "name": "stdout",
     "output_type": "stream",
     "text": [
      "There are 21 labels in the dataset\n"
     ]
    }
   ],
   "source": [
    "#number of tags\n",
    "print(f\"There are {df['Tag'].nunique()} labels in the dataset\")"
   ]
  },
  {
   "cell_type": "code",
   "execution_count": 14,
   "id": "101dc4dd-1b52-4c69-89d1-e0cb081c95ac",
   "metadata": {},
   "outputs": [
    {
     "data": {
      "text/plain": [
       "Tag\n",
       "O                44000\n",
       "B-person           449\n",
       "I-other            320\n",
       "B-geo-loc          276\n",
       "B-other            225\n",
       "I-person           215\n",
       "B-company          171\n",
       "I-facility         105\n",
       "B-facility         104\n",
       "B-product           97\n",
       "I-product           80\n",
       "I-musicartist       61\n",
       "B-musicartist       55\n",
       "B-sportsteam        51\n",
       "I-geo-loc           49\n",
       "I-movie             46\n",
       "I-company           36\n",
       "B-movie             34\n",
       "B-tvshow            34\n",
       "I-tvshow            31\n",
       "I-sportsteam        23\n",
       "Name: count, dtype: int64"
      ]
     },
     "execution_count": 14,
     "metadata": {},
     "output_type": "execute_result"
    }
   ],
   "source": [
    "#frequency of the labels\n",
    "df[\"Tag\"].value_counts()"
   ]
  },
  {
   "cell_type": "code",
   "execution_count": 15,
   "id": "3e00b322-c531-42ee-929c-947017fa92db",
   "metadata": {},
   "outputs": [
    {
     "name": "stdout",
     "output_type": "stream",
     "text": [
      "[39, 39, 38, 37, 37, 36, 36, 36, 35, 35]\n",
      "[1, 2, 2, 2, 2, 3, 3, 3, 3, 3]\n"
     ]
    }
   ],
   "source": [
    "#sentence length\n",
    "sentence_length = [len(s) for s in data]\n",
    "print(sorted(sentence_length, reverse = True)[:10])\n",
    "print(sorted(sentence_length)[:10])"
   ]
  },
  {
   "cell_type": "markdown",
   "id": "f74957a0-9008-42c1-97f8-c492738a105e",
   "metadata": {},
   "source": [
    "The sentence lengths varies from 1 to 39"
   ]
  },
  {
   "cell_type": "code",
   "execution_count": 16,
   "id": "b707be55-dc91-4f14-82ec-533e7bff8b81",
   "metadata": {},
   "outputs": [
    {
     "data": {
      "image/png": "[encoded data removed]",
      "text/plain": [
       "<Figure size 640x480 with 1 Axes>"
      ]
     },
     "metadata": {},
     "output_type": "display_data"
    }
   ],
   "source": [
    "#plotting the sentence length\n",
    "plt.hist(sentence_length, bins = 30)\n",
    "plt.title('Token per sentence')\n",
    "plt.xlabel('Len (number of token)')\n",
    "plt.ylabel('No. of samples')\n",
    "plt.show()"
   ]
  },
  {
   "cell_type": "markdown",
   "id": "8be3fa99-dcf8-4d5f-ab3e-e50af3faaf25",
   "metadata": {},
   "source": [
    "**Insights**\n",
    "- Most sentences fall in the range of 10 to 30 long tokens\n",
    "- Peaks around 20 to 25\n",
    "- Very few sentences are extremely short (<5) or very long (>35):\n",
    "  - We can assume that extremely short or long sentences are rare and can be called as outliers.\n"
   ]
  },
  {
   "cell_type": "markdown",
   "id": "10f79ffc-927a-4b1b-b514-8915ba063dcc",
   "metadata": {},
   "source": [
    "### Handling sparse data"
   ]
  },
  {
   "cell_type": "code",
   "execution_count": 17,
   "id": "fdcaf7f9-5c14-4612-b51e-c26a8d5bd0bf",
   "metadata": {},
   "outputs": [
    {
     "data": {
      "text/html": [
       "<div>\n",
       "<style scoped>\n",
       "    .dataframe tbody tr th:only-of-type {\n",
       "        vertical-align: middle;\n",
       "    }\n",
       "\n",
       "    .dataframe tbody tr th {\n",
       "        vertical-align: top;\n",
       "    }\n",
       "\n",
       "    .dataframe thead th {\n",
       "        text-align: right;\n",
       "    }\n",
       "</style>\n",
       "<table border=\"1\" class=\"dataframe\">\n",
       "  <thead>\n",
       "    <tr style=\"text-align: right;\">\n",
       "      <th></th>\n",
       "      <th>Token</th>\n",
       "      <th>Tag</th>\n",
       "      <th>Entity</th>\n",
       "    </tr>\n",
       "  </thead>\n",
       "  <tbody>\n",
       "    <tr>\n",
       "      <th>0</th>\n",
       "      <td>@SammieLynnsMom</td>\n",
       "      <td>O</td>\n",
       "      <td></td>\n",
       "    </tr>\n",
       "    <tr>\n",
       "      <th>1</th>\n",
       "      <td>@tg10781</td>\n",
       "      <td>O</td>\n",
       "      <td></td>\n",
       "    </tr>\n",
       "    <tr>\n",
       "      <th>2</th>\n",
       "      <td>they</td>\n",
       "      <td>O</td>\n",
       "      <td></td>\n",
       "    </tr>\n",
       "    <tr>\n",
       "      <th>3</th>\n",
       "      <td>will</td>\n",
       "      <td>O</td>\n",
       "      <td></td>\n",
       "    </tr>\n",
       "    <tr>\n",
       "      <th>4</th>\n",
       "      <td>be</td>\n",
       "      <td>O</td>\n",
       "      <td></td>\n",
       "    </tr>\n",
       "    <tr>\n",
       "      <th>5</th>\n",
       "      <td>all</td>\n",
       "      <td>O</td>\n",
       "      <td></td>\n",
       "    </tr>\n",
       "    <tr>\n",
       "      <th>6</th>\n",
       "      <td>done</td>\n",
       "      <td>O</td>\n",
       "      <td></td>\n",
       "    </tr>\n",
       "    <tr>\n",
       "      <th>7</th>\n",
       "      <td>by</td>\n",
       "      <td>O</td>\n",
       "      <td></td>\n",
       "    </tr>\n",
       "    <tr>\n",
       "      <th>8</th>\n",
       "      <td>Sunday</td>\n",
       "      <td>O</td>\n",
       "      <td></td>\n",
       "    </tr>\n",
       "    <tr>\n",
       "      <th>9</th>\n",
       "      <td>trust</td>\n",
       "      <td>O</td>\n",
       "      <td></td>\n",
       "    </tr>\n",
       "  </tbody>\n",
       "</table>\n",
       "</div>"
      ],
      "text/plain": [
       "             Token Tag Entity\n",
       "0  @SammieLynnsMom   O       \n",
       "1         @tg10781   O       \n",
       "2             they   O       \n",
       "3             will   O       \n",
       "4               be   O       \n",
       "5              all   O       \n",
       "6             done   O       \n",
       "7               by   O       \n",
       "8           Sunday   O       \n",
       "9            trust   O       "
      ]
     },
     "execution_count": 17,
     "metadata": {},
     "output_type": "execute_result"
    }
   ],
   "source": [
    "#to get the entity tag\n",
    "df[\"Entity\"] = df[\"Tag\"].apply(lambda x: x.split(\"-\")[-1] if len(x.split(\"-\")) > 1 else \"\")\n",
    "df.head(10)"
   ]
  },
  {
   "cell_type": "code",
   "execution_count": 18,
   "id": "5239bf59-950e-4d18-aa4e-7eb581684f90",
   "metadata": {},
   "outputs": [
    {
     "data": {
      "text/html": [
       "<div>\n",
       "<style scoped>\n",
       "    .dataframe tbody tr th:only-of-type {\n",
       "        vertical-align: middle;\n",
       "    }\n",
       "\n",
       "    .dataframe tbody tr th {\n",
       "        vertical-align: top;\n",
       "    }\n",
       "\n",
       "    .dataframe thead th {\n",
       "        text-align: right;\n",
       "    }\n",
       "</style>\n",
       "<table border=\"1\" class=\"dataframe\">\n",
       "  <thead>\n",
       "    <tr style=\"text-align: right;\">\n",
       "      <th></th>\n",
       "      <th>Token</th>\n",
       "      <th>Tag</th>\n",
       "      <th>Entity</th>\n",
       "    </tr>\n",
       "  </thead>\n",
       "  <tbody>\n",
       "    <tr>\n",
       "      <th>22613</th>\n",
       "      <td>album</td>\n",
       "      <td>O</td>\n",
       "      <td></td>\n",
       "    </tr>\n",
       "    <tr>\n",
       "      <th>27944</th>\n",
       "      <td>,</td>\n",
       "      <td>O</td>\n",
       "      <td></td>\n",
       "    </tr>\n",
       "    <tr>\n",
       "      <th>45352</th>\n",
       "      <td>would</td>\n",
       "      <td>O</td>\n",
       "      <td></td>\n",
       "    </tr>\n",
       "  </tbody>\n",
       "</table>\n",
       "</div>"
      ],
      "text/plain": [
       "       Token Tag Entity\n",
       "22613  album   O       \n",
       "27944      ,   O       \n",
       "45352  would   O       "
      ]
     },
     "execution_count": 18,
     "metadata": {},
     "output_type": "execute_result"
    }
   ],
   "source": [
    "df.sample(3)"
   ]
  },
  {
   "cell_type": "code",
   "execution_count": 19,
   "id": "a2adafdb-224d-4ec4-b63b-89dd03f67288",
   "metadata": {},
   "outputs": [
    {
     "data": {
      "text/plain": [
       "Entity\n",
       "               44000\n",
       "person           664\n",
       "other            545\n",
       "loc              325\n",
       "facility         209\n",
       "company          207\n",
       "product          177\n",
       "musicartist      116\n",
       "movie             80\n",
       "sportsteam        74\n",
       "tvshow            65\n",
       "Name: count, dtype: int64"
      ]
     },
     "execution_count": 19,
     "metadata": {},
     "output_type": "execute_result"
    }
   ],
   "source": [
    "df[\"Entity\"].value_counts()"
   ]
  },
  {
   "cell_type": "markdown",
   "id": "6c9a9ec0-ffb7-459e-971c-ca800f2d0130",
   "metadata": {},
   "source": [
    "There is an imbalance in the entity values. So we can do resambling."
   ]
  },
  {
   "cell_type": "code",
   "execution_count": 20,
   "id": "11733040-ffa7-404e-84ec-1a99847d5e72",
   "metadata": {},
   "outputs": [],
   "source": [
    "lowcount_labels = df[\"Entity\"].value_counts()[3:].reset_index()[\"Entity\"].tolist()"
   ]
  },
  {
   "cell_type": "code",
   "execution_count": 21,
   "id": "139c07d5-aecc-4788-855e-8f7e6baffdf9",
   "metadata": {},
   "outputs": [
    {
     "data": {
      "text/plain": [
       "['loc',\n",
       " 'facility',\n",
       " 'company',\n",
       " 'product',\n",
       " 'musicartist',\n",
       " 'movie',\n",
       " 'sportsteam',\n",
       " 'tvshow']"
      ]
     },
     "execution_count": 21,
     "metadata": {},
     "output_type": "execute_result"
    }
   ],
   "source": [
    "lowcount_labels"
   ]
  },
  {
   "cell_type": "code",
   "execution_count": 22,
   "id": "11b1e245-9e0b-438e-90cc-40c59dfbf704",
   "metadata": {},
   "outputs": [
    {
     "name": "stdout",
     "output_type": "stream",
     "text": [
      "[('@SammieLynnsMom', 'O'), ('@tg10781', 'O'), ('they', 'O'), ('will', 'O'), ('be', 'O'), ('all', 'O'), ('done', 'O'), ('by', 'O'), ('Sunday', 'O'), ('trust', 'O'), ('me', 'O'), ('*wink*', 'O')]\n",
      "[('Made', 'O'), ('it', 'O'), ('back', 'O'), ('home', 'O'), ('to', 'O'), ('GA', 'B-geo-loc'), ('.', 'O'), ('It', 'O'), ('sucks', 'O'), ('not', 'O'), ('to', 'O'), ('be', 'O'), ('at', 'O'), ('Disney', 'B-facility'), ('world', 'I-facility'), (',', 'O'), ('but', 'O'), ('its', 'O'), ('good', 'O'), ('to', 'O'), ('be', 'O'), ('home', 'O'), ('.', 'O'), ('Time', 'O'), ('to', 'O'), ('start', 'O'), ('planning', 'O'), ('the', 'O'), ('next', 'O'), ('Disney', 'B-facility'), ('World', 'I-facility'), ('trip', 'O'), ('.', 'O')]\n",
      "[(\"'\", 'O'), ('Breaking', 'B-movie'), ('Dawn', 'I-movie'), (\"'\", 'O'), ('Returns', 'O'), ('to', 'O'), ('Vancouver', 'B-geo-loc'), ('on', 'O'), ('January', 'O'), ('11th', 'O'), ('http://bit.ly/dbDMs8', 'O')]\n"
     ]
    }
   ],
   "source": [
    "#let us see the data\n",
    "for items in data[:3] :\n",
    "    print(items)"
   ]
  },
  {
   "cell_type": "code",
   "execution_count": 23,
   "id": "d89c1b4f-9a35-4170-9204-93f7b1bb1c6a",
   "metadata": {},
   "outputs": [],
   "source": [
    "#doing the oversampling on the lowcount labels\n",
    "oversampling = {}\n",
    "for label in lowcount_labels :\n",
    "    oversampling[label] = []\n",
    "\n",
    "for sentence in data :\n",
    "    for word, label in sentence :\n",
    "        if label.split(\"-\")[-1] in lowcount_labels :\n",
    "            oversampling[label.split(\"-\")[-1]].append(sentence)\n",
    "            break"
   ]
  },
  {
   "cell_type": "code",
   "execution_count": 24,
   "id": "7883b659-d8c8-4a80-b3da-86d0e12a43df",
   "metadata": {},
   "outputs": [
    {
     "name": "stdout",
     "output_type": "stream",
     "text": [
      "loc 174\n",
      "facility 77\n",
      "company 135\n",
      "product 65\n",
      "musicartist 35\n",
      "movie 24\n",
      "sportsteam 37\n",
      "tvshow 29\n"
     ]
    }
   ],
   "source": [
    "for key, value in oversampling.items() :\n",
    "    print(key, len(value))"
   ]
  },
  {
   "cell_type": "code",
   "execution_count": 25,
   "id": "9722722d-6370-44fa-b34c-8aa74974ebf0",
   "metadata": {},
   "outputs": [
    {
     "data": {
      "text/plain": [
       "2393"
      ]
     },
     "execution_count": 25,
     "metadata": {},
     "output_type": "execute_result"
    }
   ],
   "source": [
    "len(data)"
   ]
  },
  {
   "cell_type": "code",
   "execution_count": 26,
   "id": "945670cb-43fb-498b-9d6f-131c8504228b",
   "metadata": {},
   "outputs": [],
   "source": [
    "#doing the oversampling\n",
    "oversampled_data = data + random.choices(oversampling[\"loc\"], k = 200)\n",
    "\n",
    "oversampled_data += random.choices(oversampling[\"facility\"], k = 300)\n",
    "oversampled_data += random.choices(oversampling[\"company\"], k=300)\n",
    "oversampled_data += random.choices(oversampling[\"product\"], k=400)\n",
    "oversampled_data += random.choices(oversampling[\"musicartist\"], k=400)\n",
    "oversampled_data += random.choices(oversampling[\"movie\"], k=500)\n",
    "oversampled_data += random.choices(oversampling[\"sportsteam\"], k=500)\n",
    "oversampled_data += random.choices(oversampling[\"tvshow\"], k=500)"
   ]
  },
  {
   "cell_type": "markdown",
   "id": "dcb02441-5025-4248-b547-a7fe4d751aac",
   "metadata": {},
   "source": [
    "**What does the above code do?** : \n",
    "\n",
    "- random.choices() returns a list of 200 random elements with replacement from oversampling[\"loc\"].\n",
    "\n",
    "- That means some elements may appear more than once."
   ]
  },
  {
   "cell_type": "code",
   "execution_count": 27,
   "id": "533bc986-0143-4f3e-aab8-7311bb6929d7",
   "metadata": {},
   "outputs": [
    {
     "data": {
      "text/plain": [
       "5493"
      ]
     },
     "execution_count": 27,
     "metadata": {},
     "output_type": "execute_result"
    }
   ],
   "source": [
    "len(oversampled_data)"
   ]
  },
  {
   "cell_type": "markdown",
   "id": "97231aa7-3041-40ec-876b-03a23e21e1b2",
   "metadata": {},
   "source": [
    "## Tokenization and Encoding \n",
    "\n",
    "**We will do :**\n",
    "1. Tokenization\n",
    "2. Padding\n",
    "3. Encoding"
   ]
  },
  {
   "cell_type": "code",
   "execution_count": 28,
   "id": "2acbadac-ca4f-4e7c-a5d4-f713ecc46883",
   "metadata": {},
   "outputs": [
    {
     "data": {
      "text/plain": [
       "Token\n",
       ".                  1524\n",
       ",                   914\n",
       "the                 876\n",
       "to                  824\n",
       "I                   762\n",
       "                   ... \n",
       "ellwood               1\n",
       "enuf                  1\n",
       "blond                 1\n",
       "adolf                 1\n",
       "@PersonalSelena       1\n",
       "Name: count, Length: 10585, dtype: int64"
      ]
     },
     "execution_count": 28,
     "metadata": {},
     "output_type": "execute_result"
    }
   ],
   "source": [
    "df[\"Token\"].value_counts()"
   ]
  },
  {
   "cell_type": "code",
   "execution_count": 29,
   "id": "0dc155b8-68ed-443d-9e94-0cdf0890c300",
   "metadata": {},
   "outputs": [
    {
     "name": "stdout",
     "output_type": "stream",
     "text": [
      "Total number of unique words in the dataset is 10585\n"
     ]
    }
   ],
   "source": [
    "#number of unique words in the dataset\n",
    "words = list(set(df[\"Token\"].values))\n",
    "\n",
    "print(\"Total number of unique words in the dataset is\", len(words))"
   ]
  },
  {
   "cell_type": "code",
   "execution_count": 30,
   "id": "2dfcb780-3384-41f6-8044-29187aa6064b",
   "metadata": {},
   "outputs": [
    {
     "name": "stdout",
     "output_type": "stream",
     "text": [
      "Total number of unique labels in the dataset is 21\n"
     ]
    }
   ],
   "source": [
    "#number of unique tags in the dataset\n",
    "tags = list(set(df[\"Tag\"].values))\n",
    "\n",
    "print(\"Total number of unique labels in the dataset is\", len(tags))"
   ]
  },
  {
   "cell_type": "code",
   "execution_count": 31,
   "id": "cbb2309b-94db-4413-a462-4de8778dbc1f",
   "metadata": {},
   "outputs": [
    {
     "data": {
      "text/plain": [
       "['I-product',\n",
       " 'B-sportsteam',\n",
       " 'I-other',\n",
       " 'I-facility',\n",
       " 'I-musicartist',\n",
       " 'I-sportsteam',\n",
       " 'I-company',\n",
       " 'I-tvshow',\n",
       " 'I-person',\n",
       " 'B-movie',\n",
       " 'O',\n",
       " 'B-company',\n",
       " 'B-musicartist',\n",
       " 'I-movie',\n",
       " 'B-person',\n",
       " 'B-tvshow',\n",
       " 'B-geo-loc',\n",
       " 'B-product',\n",
       " 'I-geo-loc',\n",
       " 'B-other',\n",
       " 'B-facility']"
      ]
     },
     "execution_count": 31,
     "metadata": {},
     "output_type": "execute_result"
    }
   ],
   "source": [
    "tags"
   ]
  },
  {
   "cell_type": "markdown",
   "id": "7ac6298a-f0ef-4a57-836c-a73c0885fd4c",
   "metadata": {},
   "source": [
    "### Encoding\n",
    "\n",
    "- We will create a dictionary called **word2idx** that assigns each word a unique integer.\n",
    "- Similarly creates a dictionary **tag2idx** which maps each tag (like B-movie, I-movie, O, etc.) to a unique index."
   ]
  },
  {
   "cell_type": "code",
   "execution_count": 32,
   "id": "3349799b-0416-4459-abda-ec75a1c3d76a",
   "metadata": {},
   "outputs": [],
   "source": [
    "word2idx = {w:i+2 for i,w in enumerate(words)}\n",
    "word2idx[\"UNK\"] = 1\n",
    "word2idx[\"PAD\"] = 0\n",
    "tag2idx = {t:i+2 for i,t in enumerate(tags)}\n",
    "tag2idx[\"PAD\"] = 0\n",
    "tag2idx[\"UNK\"] = 1"
   ]
  },
  {
   "cell_type": "markdown",
   "id": "905c29b8-7522-40b7-98ec-7195156aea99",
   "metadata": {},
   "source": [
    "i+2 starts indexing from 2 so that 0 and 1 can be reserved.\n",
    "\n",
    "- PAD = 0 → For padding sequences to same length.\n",
    "\n",
    "- UNK = 1 → For unknown words not in vocabulary."
   ]
  },
  {
   "cell_type": "code",
   "execution_count": 33,
   "id": "4402681f-155e-4c4e-ba53-e2c04cb87a8a",
   "metadata": {},
   "outputs": [
    {
     "name": "stdout",
     "output_type": "stream",
     "text": [
      "The word Breaking has the index 4691\n",
      "The label B-movie has the index 11\n"
     ]
    }
   ],
   "source": [
    "#for example let us see the words \"Breaking\" and the label \"B-movie\"\n",
    "print(\"The word Breaking has the index\", word2idx[\"Breaking\"])\n",
    "print(\"The label B-movie has the index\", tag2idx[\"B-movie\"])"
   ]
  },
  {
   "cell_type": "code",
   "execution_count": 34,
   "id": "0f2f93ce-31a9-49b2-9cf4-c6ad092ddc11",
   "metadata": {},
   "outputs": [
    {
     "data": {
      "text/plain": [
       "{'I-product': 2,\n",
       " 'B-sportsteam': 3,\n",
       " 'I-other': 4,\n",
       " 'I-facility': 5,\n",
       " 'I-musicartist': 6,\n",
       " 'I-sportsteam': 7,\n",
       " 'I-company': 8,\n",
       " 'I-tvshow': 9,\n",
       " 'I-person': 10,\n",
       " 'B-movie': 11,\n",
       " 'O': 12,\n",
       " 'B-company': 13,\n",
       " 'B-musicartist': 14,\n",
       " 'I-movie': 15,\n",
       " 'B-person': 16,\n",
       " 'B-tvshow': 17,\n",
       " 'B-geo-loc': 18,\n",
       " 'B-product': 19,\n",
       " 'I-geo-loc': 20,\n",
       " 'B-other': 21,\n",
       " 'B-facility': 22,\n",
       " 'PAD': 0,\n",
       " 'UNK': 1}"
      ]
     },
     "execution_count": 34,
     "metadata": {},
     "output_type": "execute_result"
    }
   ],
   "source": [
    "tag2idx"
   ]
  },
  {
   "cell_type": "markdown",
   "id": "b58f5110-ea7f-4b5c-955a-6a69e9cbe1bb",
   "metadata": {},
   "source": [
    "### Padding"
   ]
  },
  {
   "cell_type": "code",
   "execution_count": 35,
   "id": "d5e7a697-53c0-4bae-a0eb-c62cba2b9a27",
   "metadata": {},
   "outputs": [
    {
     "data": {
      "text/plain": [
       "[('@SammieLynnsMom', 'O'),\n",
       " ('@tg10781', 'O'),\n",
       " ('they', 'O'),\n",
       " ('will', 'O'),\n",
       " ('be', 'O'),\n",
       " ('all', 'O'),\n",
       " ('done', 'O'),\n",
       " ('by', 'O'),\n",
       " ('Sunday', 'O'),\n",
       " ('trust', 'O'),\n",
       " ('me', 'O'),\n",
       " ('*wink*', 'O')]"
      ]
     },
     "execution_count": 35,
     "metadata": {},
     "output_type": "execute_result"
    }
   ],
   "source": [
    "oversampled_data[0]"
   ]
  },
  {
   "cell_type": "code",
   "execution_count": 36,
   "id": "e5e518d3-a97a-43d5-a9a9-c345fd5c20b7",
   "metadata": {},
   "outputs": [
    {
     "name": "stdout",
     "output_type": "stream",
     "text": [
      "Raw Sample:\n",
      "  @SammieLynnsMom @tg10781 they will be all done by Sunday trust me *wink*\n",
      "\n",
      " \n",
      "After processing, sample:\n",
      " [ 2302  9444  5186  2101  2825  1782  6108  8463   215  8025  8757 10137\n",
      "     0     0     0     0     0     0     0     0     0     0     0     0\n",
      "     0     0     0     0     0     0     0     0     0     0     0     0\n",
      "     0     0     0     0     0     0     0     0     0     0     0     0\n",
      "     0     0     0     0     0     0     0     0     0     0     0     0\n",
      "     0     0     0     0     0     0     0     0     0     0     0     0\n",
      "     0     0     0]\n"
     ]
    }
   ],
   "source": [
    "X = []\n",
    "\n",
    "for sentence in oversampled_data:\n",
    "    word_indices = []\n",
    "    for ele in sentence:\n",
    "        word = ele[0]  # take the word from the (word, tag) tuple\n",
    "        word_index = word2idx.get(word, word2idx[\"UNK\"])  # use UNK if word not found\n",
    "        word_indices.append(word_index)\n",
    "    X.append(word_indices)\n",
    "\n",
    "\n",
    "# pad the sequences, to have same length\n",
    "X = pad_sequences(\n",
    " maxlen = MAX_LEN,\n",
    " sequences = X,\n",
    " padding = \"post\",\n",
    " value = word2idx[\"PAD\"]\n",
    ")\n",
    "print('Raw Sample:\\n ', ' '.join([w[0] for w in oversampled_data[0]]))\n",
    "print('\\n ' )\n",
    "print('After processing, sample:\\n', X[0])"
   ]
  },
  {
   "cell_type": "code",
   "execution_count": 37,
   "id": "5885aef0-13c6-47a5-8b4d-0ae0648c648d",
   "metadata": {},
   "outputs": [
    {
     "data": {
      "text/plain": [
       "array([[ 2302,  9444,  5186, ...,     0,     0,     0],\n",
       "       [ 3845,  7517,   915, ...,     0,     0,     0],\n",
       "       [ 6667,  4691,  2622, ...,     0,     0,     0],\n",
       "       ...,\n",
       "       [10384,  6597,  2279, ...,     0,     0,     0],\n",
       "       [10300,  4432,  3572, ...,     0,     0,     0],\n",
       "       [ 4021,  9476,  9923, ...,     0,     0,     0]])"
      ]
     },
     "execution_count": 37,
     "metadata": {},
     "output_type": "execute_result"
    }
   ],
   "source": [
    "X"
   ]
  },
  {
   "cell_type": "code",
   "execution_count": 38,
   "id": "7f6b3d21-1984-48b7-a4bd-9b1ae4ac6572",
   "metadata": {},
   "outputs": [
    {
     "data": {
      "text/plain": [
       "5493"
      ]
     },
     "execution_count": 38,
     "metadata": {},
     "output_type": "execute_result"
    }
   ],
   "source": [
    "len(X)"
   ]
  },
  {
   "cell_type": "code",
   "execution_count": 39,
   "id": "97ba8cb7-459b-4a73-9724-e42cbc756644",
   "metadata": {},
   "outputs": [
    {
     "name": "stdout",
     "output_type": "stream",
     "text": [
      "Raw Label:\n",
      "  O O O O O O O O O O O O\n",
      "\n",
      " \n",
      "After processing, labels:\n",
      " [12 12 12 12 12 12 12 12 12 12 12 12  0  0  0  0  0  0  0  0  0  0  0  0\n",
      "  0  0  0  0  0  0  0  0  0  0  0  0  0  0  0  0  0  0  0  0  0  0  0  0\n",
      "  0  0  0  0  0  0  0  0  0  0  0  0  0  0  0  0  0  0  0  0  0  0  0  0\n",
      "  0  0  0]\n"
     ]
    }
   ],
   "source": [
    "# Convert my Tag/Label to tag_index\n",
    "y = []\n",
    "\n",
    "for sentence in oversampled_data:\n",
    "    tag_indices = []\n",
    "    for ele in sentence:\n",
    "        tag = ele[1]  # take the tag from the (word, tag) tuple\n",
    "        tag_index = tag2idx.get(tag, tag2idx[\"UNK\"])  # use UNK if tag not found\n",
    "        tag_indices.append(tag_index)\n",
    "    y.append(tag_indices)\n",
    "    \n",
    "# Padding each label to have same length\n",
    "y = pad_sequences(\n",
    " maxlen = MAX_LEN,\n",
    " sequences = y,\n",
    " padding = \"post\",\n",
    " value = tag2idx[\"PAD\"]\n",
    ")\n",
    "print('Raw Label:\\n ', ' '.join([w[1] for w in oversampled_data[0]]))\n",
    "print('\\n ' )\n",
    "print('After processing, labels:\\n', y[0])"
   ]
  },
  {
   "cell_type": "code",
   "execution_count": 40,
   "id": "de61ff31-359e-4421-9319-4c236db47b56",
   "metadata": {},
   "outputs": [
    {
     "data": {
      "text/plain": [
       "array([[12, 12, 12, ...,  0,  0,  0],\n",
       "       [12, 12, 12, ...,  0,  0,  0],\n",
       "       [12, 11, 15, ...,  0,  0,  0],\n",
       "       ...,\n",
       "       [12, 12, 12, ...,  0,  0,  0],\n",
       "       [21, 12, 12, ...,  0,  0,  0],\n",
       "       [12, 12, 12, ...,  0,  0,  0]])"
      ]
     },
     "execution_count": 40,
     "metadata": {},
     "output_type": "execute_result"
    }
   ],
   "source": [
    "y"
   ]
  },
  {
   "cell_type": "code",
   "execution_count": 41,
   "id": "612c038d-e0e3-4b78-a5f6-fce6966759d2",
   "metadata": {},
   "outputs": [
    {
     "data": {
      "text/plain": [
       "5493"
      ]
     },
     "execution_count": 41,
     "metadata": {},
     "output_type": "execute_result"
    }
   ],
   "source": [
    "len(y)"
   ]
  },
  {
   "cell_type": "code",
   "execution_count": 42,
   "id": "8cc39ab0-5458-407b-80e8-0a62b942826f",
   "metadata": {},
   "outputs": [],
   "source": [
    "#one hot encoding for y\n",
    "y = [to_categorical(i, num_classes = 23) for i in y]   #ntags = 22 + 1 (PAD) => num_classes = 23\n",
    "\n",
    "#train test split\n",
    "from sklearn.model_selection import train_test_split\n",
    "X_train, X_test, y_train, y_test = train_test_split(X, y, test_size=0.1)\n",
    "y_train = np.array(y_train)\n",
    "y_test = np.array(y_test)"
   ]
  },
  {
   "cell_type": "code",
   "execution_count": 43,
   "id": "f64ea84a-f755-4e4e-a7e7-7e6172a176dc",
   "metadata": {},
   "outputs": [
    {
     "name": "stdout",
     "output_type": "stream",
     "text": [
      "(4943, 75, 23)\n",
      "(550, 75, 23)\n"
     ]
    }
   ],
   "source": [
    "print(y_train.shape)\n",
    "print(y_test.shape)"
   ]
  },
  {
   "cell_type": "code",
   "execution_count": 44,
   "id": "dc9a42cb-0c23-422a-90f4-30b2f25eb76c",
   "metadata": {},
   "outputs": [
    {
     "data": {
      "text/plain": [
       "(4943, 550)"
      ]
     },
     "execution_count": 44,
     "metadata": {},
     "output_type": "execute_result"
    }
   ],
   "source": [
    "len(X_train), len(X_test)"
   ]
  },
  {
   "cell_type": "code",
   "execution_count": 45,
   "id": "5a1bda98-7683-4efe-ae63-65ca6f473fbd",
   "metadata": {},
   "outputs": [
    {
     "data": {
      "text/plain": [
       "(4943, 550)"
      ]
     },
     "execution_count": 45,
     "metadata": {},
     "output_type": "execute_result"
    }
   ],
   "source": [
    "len(y_train), len(y_test)"
   ]
  },
  {
   "cell_type": "code",
   "execution_count": 46,
   "id": "e3e542c7-8a62-48ce-bb78-39f9f24d3685",
   "metadata": {},
   "outputs": [
    {
     "data": {
      "text/plain": [
       "array([ 7599,  2924,  6889,  1643,  3404,  5911,  7184,  1665,  3973,\n",
       "        8815,  4040,  9917,  4565,  4843,  3739,  4565,  5254,  9047,\n",
       "        7569,  5916,   741,  6636,  5468,  9476,  9610, 10042,     0,\n",
       "           0,     0,     0,     0,     0,     0,     0,     0,     0,\n",
       "           0,     0,     0,     0,     0,     0,     0,     0,     0,\n",
       "           0,     0,     0,     0,     0,     0,     0,     0,     0,\n",
       "           0,     0,     0,     0,     0,     0,     0,     0,     0,\n",
       "           0,     0,     0,     0,     0,     0,     0,     0,     0,\n",
       "           0,     0,     0])"
      ]
     },
     "execution_count": 46,
     "metadata": {},
     "output_type": "execute_result"
    }
   ],
   "source": [
    "X_train[0]"
   ]
  },
  {
   "cell_type": "code",
   "execution_count": 47,
   "id": "d75bf87a-45e1-485e-b258-f4e00fb83ae4",
   "metadata": {},
   "outputs": [
    {
     "data": {
      "text/plain": [
       "array([[0., 0., 0., ..., 0., 0., 0.],\n",
       "       [0., 0., 0., ..., 0., 0., 0.],\n",
       "       [0., 0., 0., ..., 0., 0., 0.],\n",
       "       ...,\n",
       "       [1., 0., 0., ..., 0., 0., 0.],\n",
       "       [1., 0., 0., ..., 0., 0., 0.],\n",
       "       [1., 0., 0., ..., 0., 0., 0.]], dtype=float32)"
      ]
     },
     "execution_count": 47,
     "metadata": {},
     "output_type": "execute_result"
    }
   ],
   "source": [
    "y_train[0]"
   ]
  },
  {
   "cell_type": "code",
   "execution_count": 48,
   "id": "38c356a1-de2a-4382-8a2f-77eb62496c85",
   "metadata": {},
   "outputs": [
    {
     "data": {
      "text/plain": [
       "array([[[0., 0., 0., ..., 0., 0., 0.],\n",
       "        [0., 0., 0., ..., 0., 0., 0.],\n",
       "        [0., 0., 0., ..., 0., 0., 0.],\n",
       "        ...,\n",
       "        [1., 0., 0., ..., 0., 0., 0.],\n",
       "        [1., 0., 0., ..., 0., 0., 0.],\n",
       "        [1., 0., 0., ..., 0., 0., 0.]],\n",
       "\n",
       "       [[0., 0., 0., ..., 0., 0., 0.],\n",
       "        [0., 0., 0., ..., 0., 0., 0.],\n",
       "        [0., 0., 0., ..., 0., 0., 0.],\n",
       "        ...,\n",
       "        [1., 0., 0., ..., 0., 0., 0.],\n",
       "        [1., 0., 0., ..., 0., 0., 0.],\n",
       "        [1., 0., 0., ..., 0., 0., 0.]],\n",
       "\n",
       "       [[0., 0., 0., ..., 0., 0., 0.],\n",
       "        [0., 0., 0., ..., 0., 0., 0.],\n",
       "        [0., 0., 0., ..., 0., 0., 0.],\n",
       "        ...,\n",
       "        [1., 0., 0., ..., 0., 0., 0.],\n",
       "        [1., 0., 0., ..., 0., 0., 0.],\n",
       "        [1., 0., 0., ..., 0., 0., 0.]],\n",
       "\n",
       "       ...,\n",
       "\n",
       "       [[0., 0., 0., ..., 0., 1., 0.],\n",
       "        [0., 0., 0., ..., 0., 0., 0.],\n",
       "        [0., 0., 0., ..., 0., 0., 0.],\n",
       "        ...,\n",
       "        [1., 0., 0., ..., 0., 0., 0.],\n",
       "        [1., 0., 0., ..., 0., 0., 0.],\n",
       "        [1., 0., 0., ..., 0., 0., 0.]],\n",
       "\n",
       "       [[0., 0., 0., ..., 0., 0., 0.],\n",
       "        [0., 0., 0., ..., 0., 0., 0.],\n",
       "        [0., 0., 0., ..., 0., 0., 0.],\n",
       "        ...,\n",
       "        [1., 0., 0., ..., 0., 0., 0.],\n",
       "        [1., 0., 0., ..., 0., 0., 0.],\n",
       "        [1., 0., 0., ..., 0., 0., 0.]],\n",
       "\n",
       "       [[0., 0., 0., ..., 0., 0., 0.],\n",
       "        [0., 0., 0., ..., 0., 0., 0.],\n",
       "        [0., 0., 0., ..., 0., 0., 0.],\n",
       "        ...,\n",
       "        [1., 0., 0., ..., 0., 0., 0.],\n",
       "        [1., 0., 0., ..., 0., 0., 0.],\n",
       "        [1., 0., 0., ..., 0., 0., 0.]]], dtype=float32)"
      ]
     },
     "execution_count": 48,
     "metadata": {},
     "output_type": "execute_result"
    }
   ],
   "source": [
    "y_test"
   ]
  },
  {
   "cell_type": "markdown",
   "id": "3d668106-e2f8-4178-a1d5-acf6184c3129",
   "metadata": {},
   "source": [
    "## Model Building"
   ]
  },
  {
   "cell_type": "markdown",
   "id": "04c65dc6-8668-41e5-9d4c-e99369b6643d",
   "metadata": {},
   "source": [
    "### **Training LSTM + CRF Models with Embeddings**"
   ]
  },
  {
   "cell_type": "code",
   "execution_count": 49,
   "id": "71866b25-8993-47ac-b872-74a6b2c20d54",
   "metadata": {},
   "outputs": [
    {
     "name": "stdout",
     "output_type": "stream",
     "text": [
      "Model: \"Twitter_NER_V1\"\n",
      "_________________________________________________________________\n",
      " Layer (type)                Output Shape              Param #   \n",
      "=================================================================\n",
      " input_layer (InputLayer)    [(None, 75)]              0         \n",
      "                                                                 \n",
      " embedding (Embedding)       (None, 75, 200)           2117400   \n",
      "                                                                 \n",
      " bidirectional (Bidirectiona  (None, 75, 100)          100400    \n",
      " l)                                                              \n",
      "                                                                 \n",
      " bidirectional_1 (Bidirectio  (None, 75, 100)          60400     \n",
      " nal)                                                            \n",
      "                                                                 \n",
      " time_distributed (TimeDistr  (None, 75, 23)           2323      \n",
      " ibuted)                                                         \n",
      "                                                                 \n",
      " crf (CRF)                   [(None, 75),              1127      \n",
      "                              (None, 75, 23),                    \n",
      "                              (None,),                           \n",
      "                              (23, 23)]                          \n",
      "                                                                 \n",
      "=================================================================\n",
      "Total params: 2,281,650\n",
      "Trainable params: 2,281,650\n",
      "Non-trainable params: 0\n",
      "_________________________________________________________________\n"
     ]
    }
   ],
   "source": [
    "def build_model(max_len=75, input_dim=len(words)+2, embedding_dim=200): # 10585 vocab size\n",
    "    # Model definition\n",
    "    input_layer = Input(shape=(max_len,), name='input_layer')\n",
    "    \n",
    "    # Embedding layer\n",
    "    embeddings = Embedding(\n",
    "        input_dim=input_dim,\n",
    "        output_dim=embedding_dim,\n",
    "        input_length=max_len,\n",
    "        mask_zero=True\n",
    "    )(input_layer)\n",
    "    \n",
    "    # BiLSTM layers\n",
    "    lstm_output = Bidirectional(LSTM(units=50, return_sequences=True))(embeddings)\n",
    "    lstm_output = Bidirectional(LSTM(units=50, return_sequences=True))(lstm_output)\n",
    "    \n",
    "    # Dense layer\n",
    "    dense_output = TimeDistributed(Dense(23, activation=\"relu\"))(lstm_output)\n",
    "    \n",
    "    # CRF layer\n",
    "    crf = CRF(23, name='crf') # 21 classes\n",
    "    predicted_sequence, potentials, sequence_length, crf_kernel = crf(dense_output)\n",
    "    \n",
    "    # Build the model\n",
    "    model = Model(inputs=input_layer, outputs=potentials, name = \"Twitter_NER_V1\")\n",
    "    \n",
    "    # Compile the model\n",
    "    model.compile(\n",
    "        optimizer=AdamW(weight_decay=0.001 ,learning_rate=0.001),\n",
    "        loss=SigmoidFocalCrossEntropy(), # Use CRF-specific loss\n",
    "        # loss = custom_loss,\n",
    "        metrics=[\"accuracy\"] # Optional: Use CRF accuracy\n",
    "    )\n",
    "    \n",
    "    return model\n",
    "\n",
    "    \n",
    "# Build and compile the model\n",
    "model = build_model()\n",
    "\n",
    "# Checkpointing\n",
    "save_model = tf.keras.callbacks.ModelCheckpoint(filepath='twitter_ner_crf.weights.h5',\n",
    "    monitor='val_loss',\n",
    "    save_weights_only=True,\n",
    "    save_best_only=True,\n",
    "    verbose=1\n",
    ")\n",
    "# Early stopping\n",
    "\n",
    "es = tf.keras.callbacks.EarlyStopping(monitor='val_loss', verbose=1, patience=10)\n",
    "\n",
    "callbacks = [save_model, es]\n",
    "\n",
    "model.summary()"
   ]
  },
  {
   "cell_type": "code",
   "execution_count": 50,
   "id": "93bda888-ac21-4bad-82ab-6f48a87bb006",
   "metadata": {},
   "outputs": [
    {
     "name": "stdout",
     "output_type": "stream",
     "text": [
      "Epoch 1/10\n",
      "WARNING:tensorflow:Gradients do not exist for variables ['chain_kernel:0'] when minimizing the loss. If you're using `model.compile()`, did you forget to provide a `loss` argument?\n",
      "WARNING:tensorflow:Gradients do not exist for variables ['chain_kernel:0'] when minimizing the loss. If you're using `model.compile()`, did you forget to provide a `loss` argument?\n",
      "155/155 [==============================] - 74s 309ms/step - loss: 0.5501 - accuracy: 0.9478 - val_loss: 0.3211 - val_accuracy: 0.9678\n",
      "Epoch 2/10\n",
      "155/155 [==============================] - 41s 262ms/step - loss: 0.2437 - accuracy: 0.9700 - val_loss: 0.1841 - val_accuracy: 0.9674\n",
      "Epoch 3/10\n",
      "155/155 [==============================] - 39s 249ms/step - loss: 0.1434 - accuracy: 0.9697 - val_loss: 0.1183 - val_accuracy: 0.9665\n",
      "Epoch 4/10\n",
      "155/155 [==============================] - 64s 414ms/step - loss: 0.0916 - accuracy: 0.9697 - val_loss: 0.0800 - val_accuracy: 0.9678\n",
      "Epoch 5/10\n",
      "155/155 [==============================] - 52s 335ms/step - loss: 0.0627 - accuracy: 0.9712 - val_loss: 0.0598 - val_accuracy: 0.9705\n",
      "Epoch 6/10\n",
      "155/155 [==============================] - 67s 430ms/step - loss: 0.0458 - accuracy: 0.9749 - val_loss: 0.0503 - val_accuracy: 0.9742\n",
      "Epoch 7/10\n",
      "155/155 [==============================] - 49s 318ms/step - loss: 0.0356 - accuracy: 0.9800 - val_loss: 0.0445 - val_accuracy: 0.9800\n",
      "Epoch 8/10\n",
      "155/155 [==============================] - 43s 281ms/step - loss: 0.0292 - accuracy: 0.9835 - val_loss: 0.0426 - val_accuracy: 0.9821\n",
      "Epoch 9/10\n",
      "155/155 [==============================] - 44s 285ms/step - loss: 0.0249 - accuracy: 0.9856 - val_loss: 0.0407 - val_accuracy: 0.9832\n",
      "Epoch 10/10\n",
      "155/155 [==============================] - 46s 296ms/step - loss: 0.0219 - accuracy: 0.9869 - val_loss: 0.0399 - val_accuracy: 0.9848\n"
     ]
    }
   ],
   "source": [
    "#model training\n",
    "history = model.fit(\n",
    "             X_train, y_train,\n",
    "             validation_data = (X_test, y_test),\n",
    "             batch_size=BATCH_SIZE,\n",
    "             epochs=10,\n",
    "             shuffle = True)\n"
   ]
  },
  {
   "cell_type": "markdown",
   "id": "6104aab1-4039-4ee1-ab90-3e3ac3fa47bc",
   "metadata": {},
   "source": [
    "Let us now define a function called **filter_padding** that filters out certain labels (like padding tokens or specific unwanted class labels) from the predicted and true label sequences, so that evaluation metrics like accuracy, F1 score, etc., are calculated only on meaningful tokens."
   ]
  },
  {
   "cell_type": "markdown",
   "id": "4f98f53e-2d82-43f7-954c-6eb2919755f5",
   "metadata": {},
   "source": [
    "### **Validation data Evaluation.**"
   ]
  },
  {
   "cell_type": "code",
   "execution_count": 51,
   "id": "0fc2f791-7378-4298-a4b0-adac0f53d57b",
   "metadata": {},
   "outputs": [],
   "source": [
    "# Flatten the sequences and exclude padding tokens\n",
    "def filter_padding(y_pred, y_true, pad_token=0):\n",
    "    filtered_pred = []\n",
    "    filtered_true = []\n",
    "    for pred_seq, true_seq in zip(y_pred, y_true):\n",
    "        for pred_label, true_label in zip(pred_seq, true_seq):\n",
    "            if true_label != pad_token and pred_label != pad_token and true_label != 21 and pred_label != 21 and true_label != 8 and pred_label != 8: # Ignore padding tokens\n",
    "                filtered_pred.append(pred_label)\n",
    "                filtered_true.append(true_label)\n",
    "    return np.array(filtered_pred), np.array(filtered_true)"
   ]
  },
  {
   "cell_type": "code",
   "execution_count": 52,
   "id": "40fbd6f8-65cb-4eb0-a4aa-d8ea08af80a3",
   "metadata": {},
   "outputs": [
    {
     "name": "stdout",
     "output_type": "stream",
     "text": [
      "18/18 [==============================] - 12s 61ms/step\n"
     ]
    }
   ],
   "source": [
    "#predicting the probabilities\n",
    "y_val_prob_pred = model.predict(X_test)"
   ]
  },
  {
   "cell_type": "code",
   "execution_count": 53,
   "id": "04d3096c-701c-41a0-86c3-6e29ac1a1aef",
   "metadata": {},
   "outputs": [
    {
     "data": {
      "text/plain": [
       "array([12, 12, 12, 12, 12, 12, 12, 12, 12, 12, 13,  8, 12, 12,  0,  0,  0,\n",
       "        0,  0,  0,  0,  0,  0,  0,  0,  0,  0,  0,  0,  0,  0,  0,  0,  0,\n",
       "        0,  0,  0,  0,  0,  0,  0,  0,  0,  0,  0,  0,  0,  0,  0,  0,  0,\n",
       "        0,  0,  0,  0,  0,  0,  0,  0,  0,  0,  0,  0,  0,  0,  0,  0,  0,\n",
       "        0,  0,  0,  0,  0,  0,  0], dtype=int64)"
      ]
     },
     "execution_count": 53,
     "metadata": {},
     "output_type": "execute_result"
    }
   ],
   "source": [
    "#getting the class label for each word\n",
    "y_val_pred = np.argmax(y_val_prob_pred, axis=2)\n",
    "\n",
    "#comparing with true label\n",
    "np.argmax(y_test, axis = 2)[0]"
   ]
  },
  {
   "cell_type": "code",
   "execution_count": 54,
   "id": "faf5688b-3581-4b86-85ce-cc070059a99e",
   "metadata": {},
   "outputs": [
    {
     "name": "stdout",
     "output_type": "stream",
     "text": [
      "Accuracy: 0.9557743957027753\n"
     ]
    }
   ],
   "source": [
    "# Convert predictions and true labels, ignoring padding tokens\n",
    "y_pred_flat, y_true_flat = filter_padding(y_val_pred, np.argmax(y_test, axis=2))\n",
    "\n",
    "# Calculate accuracy\n",
    "accuracy = accuracy_score(y_true_flat, y_pred_flat)\n",
    "print(f\"Accuracy: {accuracy}\")"
   ]
  },
  {
   "cell_type": "code",
   "execution_count": 55,
   "id": "5897b3cf-78c8-4baa-9828-63cc65738452",
   "metadata": {},
   "outputs": [
    {
     "name": "stdout",
     "output_type": "stream",
     "text": [
      "Classification Report\n",
      "              precision    recall  f1-score   support\n",
      "\n",
      "           2       0.83      0.73      0.77        59\n",
      "           3       0.62      0.86      0.72        64\n",
      "           4       0.56      0.72      0.63        61\n",
      "           5       0.70      0.58      0.63        55\n",
      "           6       0.60      0.88      0.71        66\n",
      "           7       0.00      0.00      0.00        31\n",
      "           9       0.85      0.97      0.91        70\n",
      "          10       0.00      0.00      0.00        62\n",
      "          11       1.00      0.32      0.48        76\n",
      "          12       0.99      1.00      0.99      9917\n",
      "          13       0.85      0.67      0.75        61\n",
      "          14       1.00      0.12      0.22        56\n",
      "          15       0.63      0.89      0.74       103\n",
      "          16       0.59      0.69      0.64       152\n",
      "          17       0.87      0.79      0.83        73\n",
      "          18       0.55      0.65      0.59       110\n",
      "          19       0.73      0.80      0.77        71\n",
      "          20       0.00      0.00      0.00        29\n",
      "          22       0.71      0.31      0.44        54\n",
      "\n",
      "    accuracy                           0.96     11170\n",
      "   macro avg       0.64      0.58      0.57     11170\n",
      "weighted avg       0.95      0.96      0.95     11170\n",
      "\n"
     ]
    }
   ],
   "source": [
    "#classification report\n",
    "print(\"Classification Report\")\n",
    "print(classification_report(y_true_flat, y_pred_flat))"
   ]
  },
  {
   "cell_type": "code",
   "execution_count": 181,
   "id": "e511fc26-c867-46bf-bb65-8778d4698197",
   "metadata": {},
   "outputs": [
    {
     "data": {
      "image/png": "[encoded data removed]",
      "text/plain": [
       "<Figure size 640x480 with 1 Axes>"
      ]
     },
     "metadata": {},
     "output_type": "display_data"
    },
    {
     "data": {
      "image/png": "[encoded data removed]",
      "text/plain": [
       "<Figure size 640x480 with 1 Axes>"
      ]
     },
     "metadata": {},
     "output_type": "display_data"
    }
   ],
   "source": [
    "# Accuracy plot\n",
    "plt.plot(history.history['accuracy'])\n",
    "plt.plot(history.history['val_accuracy'])\n",
    "plt.title('Model Accuracy')\n",
    "plt.xlabel('Epoch')\n",
    "plt.ylabel('Accuracy')\n",
    "plt.legend(['Train', 'Validation'])\n",
    "plt.show()\n",
    "\n",
    "# Loss plot\n",
    "plt.plot(history.history['loss'])\n",
    "plt.plot(history.history['val_loss'])\n",
    "plt.title('Model Loss')\n",
    "plt.xlabel('Epoch')\n",
    "plt.ylabel('Loss')\n",
    "plt.legend(['Train', 'Validation'])\n",
    "plt.show()"
   ]
  },
  {
   "cell_type": "code",
   "execution_count": 57,
   "id": "87b0d05b-35c8-4d1f-811e-ee1052d985fa",
   "metadata": {},
   "outputs": [
    {
     "data": {
      "text/plain": [
       "{'I-product': 2,\n",
       " 'B-sportsteam': 3,\n",
       " 'I-other': 4,\n",
       " 'I-facility': 5,\n",
       " 'I-musicartist': 6,\n",
       " 'I-sportsteam': 7,\n",
       " 'I-company': 8,\n",
       " 'I-tvshow': 9,\n",
       " 'I-person': 10,\n",
       " 'B-movie': 11,\n",
       " 'O': 12,\n",
       " 'B-company': 13,\n",
       " 'B-musicartist': 14,\n",
       " 'I-movie': 15,\n",
       " 'B-person': 16,\n",
       " 'B-tvshow': 17,\n",
       " 'B-geo-loc': 18,\n",
       " 'B-product': 19,\n",
       " 'I-geo-loc': 20,\n",
       " 'B-other': 21,\n",
       " 'B-facility': 22,\n",
       " 'PAD': 0,\n",
       " 'UNK': 1}"
      ]
     },
     "execution_count": 57,
     "metadata": {},
     "output_type": "execute_result"
    }
   ],
   "source": [
    "tag2idx"
   ]
  },
  {
   "cell_type": "code",
   "execution_count": 58,
   "id": "b257f51a-d245-4911-9599-9d2902e15e19",
   "metadata": {},
   "outputs": [
    {
     "data": {
      "image/png": "[encoded data removed]",
      "text/plain": [
       "<Figure size 1300x800 with 2 Axes>"
      ]
     },
     "metadata": {},
     "output_type": "display_data"
    }
   ],
   "source": [
    "#Confusion matrix\n",
    "\n",
    "conf_matrix = confusion_matrix(y_true_flat, y_pred_flat)\n",
    "# Plot the heatmap\n",
    "plt.figure(figsize=(13, 8))\n",
    "sns.heatmap(conf_matrix, annot=True, fmt='d', cmap='Blues', xticklabels=np.unique(y_true_flat), yticklabels=np.unique(y_true_flat))\n",
    "# Labels and title\n",
    "plt.xlabel('Predicted Labels')\n",
    "plt.ylabel('True Labels')\n",
    "plt.title('Confusion Matrix Heatmap')\n",
    "plt.show()\n"
   ]
  },
  {
   "cell_type": "markdown",
   "id": "0bec1544-1d63-4c2e-b347-c9067222d134",
   "metadata": {},
   "source": [
    "**Insights**\n",
    "- The class at index 12 (row/column labeled 12) is dominantly represented, with a count of 9904 correct predictions.\n",
    "- Labels like:\n",
    "    - 16: 105 correct, minimal confusion\n",
    "    - 15: 92 correct\n",
    "    - 6: 58 correct\n",
    "- For some classes, predictions are spread out across nearby labels:\n",
    "    - E.g., True label 10 has significant confusion with label 22.\n",
    "    - True label 19 is confused with 20 and 21."
   ]
  },
  {
   "cell_type": "code",
   "execution_count": null,
   "id": "628f3a0e-ba6f-4503-8110-03d3a765560c",
   "metadata": {},
   "outputs": [],
   "source": []
  },
  {
   "cell_type": "markdown",
   "id": "ebd7f3f1-c51e-489a-9785-ccdc2b748d1e",
   "metadata": {},
   "source": [
    "### **Testing  : Dataset evaluation and Creation**"
   ]
  },
  {
   "cell_type": "code",
   "execution_count": 59,
   "id": "91bc8d9b-bda4-4507-a695-388b1acd27d4",
   "metadata": {},
   "outputs": [],
   "source": [
    "test_data = read_conll(\"wnut 16test.txt.conll\")"
   ]
  },
  {
   "cell_type": "code",
   "execution_count": 60,
   "id": "7e3a1788-b910-435f-a656-79621e43a7a0",
   "metadata": {},
   "outputs": [
    {
     "data": {
      "text/plain": [
       "[('New', 'B-other'),\n",
       " ('Orleans', 'I-other'),\n",
       " ('Mother', 'I-other'),\n",
       " (\"'s\", 'I-other'),\n",
       " ('Day', 'I-other'),\n",
       " ('Parade', 'I-other'),\n",
       " ('shooting', 'O'),\n",
       " ('.', 'O'),\n",
       " ('One', 'O'),\n",
       " ('of', 'O'),\n",
       " ('the', 'O'),\n",
       " ('people', 'O'),\n",
       " ('hurt', 'O'),\n",
       " ('was', 'O'),\n",
       " ('a', 'O'),\n",
       " ('10-year-old', 'O'),\n",
       " ('girl', 'O'),\n",
       " ('.', 'O'),\n",
       " ('WHAT', 'O'),\n",
       " ('THE', 'O'),\n",
       " ('HELL', 'O'),\n",
       " ('IS', 'O'),\n",
       " ('WRONG', 'O'),\n",
       " ('WITH', 'O'),\n",
       " ('PEOPLE', 'O'),\n",
       " ('?', 'O')]"
      ]
     },
     "execution_count": 60,
     "metadata": {},
     "output_type": "execute_result"
    }
   ],
   "source": [
    "test_data[0]"
   ]
  },
  {
   "cell_type": "code",
   "execution_count": 61,
   "id": "85acb06d-6de6-427d-8ce0-2e4651c527e9",
   "metadata": {},
   "outputs": [
    {
     "data": {
      "text/plain": [
       "3849"
      ]
     },
     "execution_count": 61,
     "metadata": {},
     "output_type": "execute_result"
    }
   ],
   "source": [
    "len(test_data)"
   ]
  },
  {
   "cell_type": "code",
   "execution_count": 62,
   "id": "48be41c9-2094-4919-9495-fdff928f7df1",
   "metadata": {},
   "outputs": [
    {
     "data": {
      "text/html": [
       "<div>\n",
       "<style scoped>\n",
       "    .dataframe tbody tr th:only-of-type {\n",
       "        vertical-align: middle;\n",
       "    }\n",
       "\n",
       "    .dataframe tbody tr th {\n",
       "        vertical-align: top;\n",
       "    }\n",
       "\n",
       "    .dataframe thead th {\n",
       "        text-align: right;\n",
       "    }\n",
       "</style>\n",
       "<table border=\"1\" class=\"dataframe\">\n",
       "  <thead>\n",
       "    <tr style=\"text-align: right;\">\n",
       "      <th></th>\n",
       "      <th>Token</th>\n",
       "      <th>Tag</th>\n",
       "    </tr>\n",
       "  </thead>\n",
       "  <tbody>\n",
       "    <tr>\n",
       "      <th>0</th>\n",
       "      <td>New</td>\n",
       "      <td>B-other</td>\n",
       "    </tr>\n",
       "    <tr>\n",
       "      <th>1</th>\n",
       "      <td>Orleans</td>\n",
       "      <td>I-other</td>\n",
       "    </tr>\n",
       "    <tr>\n",
       "      <th>2</th>\n",
       "      <td>Mother</td>\n",
       "      <td>I-other</td>\n",
       "    </tr>\n",
       "    <tr>\n",
       "      <th>3</th>\n",
       "      <td>'s</td>\n",
       "      <td>I-other</td>\n",
       "    </tr>\n",
       "    <tr>\n",
       "      <th>4</th>\n",
       "      <td>Day</td>\n",
       "      <td>I-other</td>\n",
       "    </tr>\n",
       "  </tbody>\n",
       "</table>\n",
       "</div>"
      ],
      "text/plain": [
       "     Token      Tag\n",
       "0      New  B-other\n",
       "1  Orleans  I-other\n",
       "2   Mother  I-other\n",
       "3       's  I-other\n",
       "4      Day  I-other"
      ]
     },
     "execution_count": 62,
     "metadata": {},
     "output_type": "execute_result"
    }
   ],
   "source": [
    "#convert to dataframe\n",
    "test_df = pd.DataFrame([(token, tag) for value in test_data for token, tag in value], columns=['Token', 'Tag'])\n",
    "test_df.head()"
   ]
  },
  {
   "cell_type": "code",
   "execution_count": 63,
   "id": "ca6067c3-5c42-4e7e-993c-a8226019d7dd",
   "metadata": {},
   "outputs": [
    {
     "data": {
      "text/plain": [
       "Tag\n",
       "O                55941\n",
       "B-geo-loc          882\n",
       "B-company          621\n",
       "B-other            584\n",
       "I-other            556\n",
       "I-product          500\n",
       "B-person           482\n",
       "I-facility         366\n",
       "I-person           300\n",
       "I-company          265\n",
       "B-facility         253\n",
       "B-product          246\n",
       "I-geo-loc          219\n",
       "B-musicartist      191\n",
       "B-sportsteam       147\n",
       "I-musicartist      140\n",
       "I-movie             48\n",
       "I-sportsteam        48\n",
       "I-tvshow            40\n",
       "B-movie             34\n",
       "B-tvshow            33\n",
       "Name: count, dtype: int64"
      ]
     },
     "execution_count": 63,
     "metadata": {},
     "output_type": "execute_result"
    }
   ],
   "source": [
    "test_df[\"Tag\"].value_counts()"
   ]
  },
  {
   "cell_type": "code",
   "execution_count": 64,
   "id": "01c93b96-ea50-4d42-ab42-009fcce789b5",
   "metadata": {},
   "outputs": [
    {
     "data": {
      "text/plain": [
       "21"
      ]
     },
     "execution_count": 64,
     "metadata": {},
     "output_type": "execute_result"
    }
   ],
   "source": [
    "#number of unique tags\n",
    "test_df[\"Tag\"].nunique()"
   ]
  },
  {
   "cell_type": "code",
   "execution_count": 65,
   "id": "d01fe2c6-2427-4976-b56a-dad8fb034d4a",
   "metadata": {},
   "outputs": [],
   "source": [
    "#Creating X_test and y_test\n",
    "\n",
    "X_test = [[word2idx.get(ele[0], word2idx[\"UNK\"]) for ele in sentence] for sentence in test_data]\n",
    "# pad the sequences, to have same length\n",
    "X_test = pad_sequences(\n",
    "            maxlen = MAX_LEN,\n",
    "            sequences = X_test,\n",
    "            padding = \"post\",\n",
    "            value = word2idx[\"PAD\"]\n",
    ")\n",
    "\n",
    "\n",
    "# Convert my Tag/Label to tag_index\n",
    "y_test = [[tag2idx.get(ele[1], tag2idx[\"UNK\"]) for ele in sentence] for sentence in test_data]\n",
    "\n",
    "# Padding each label to have same length\n",
    "y_test = pad_sequences(\n",
    "            maxlen = MAX_LEN,\n",
    "            sequences = y_test,\n",
    "            padding = \"post\",\n",
    "            value = tag2idx[\"PAD\"]\n",
    ")"
   ]
  },
  {
   "cell_type": "code",
   "execution_count": 66,
   "id": "295ca626-0da6-40a2-9506-705b5d60a471",
   "metadata": {},
   "outputs": [
    {
     "data": {
      "text/plain": [
       "array([ 5689,     1,     1,  8138,  2020,  2032,  7481,  9476, 10382,\n",
       "        6788, 10140,  2327, 10564,  5645,  6636,     1,  1195,  9476,\n",
       "        1660,  1926,     1,  9928,     1,  6618,     1, 10394,     0,\n",
       "           0,     0,     0,     0,     0,     0,     0,     0,     0,\n",
       "           0,     0,     0,     0,     0,     0,     0,     0,     0,\n",
       "           0,     0,     0,     0,     0,     0,     0,     0,     0,\n",
       "           0,     0,     0,     0,     0,     0,     0,     0,     0,\n",
       "           0,     0,     0,     0,     0,     0,     0,     0,     0,\n",
       "           0,     0,     0])"
      ]
     },
     "execution_count": 66,
     "metadata": {},
     "output_type": "execute_result"
    }
   ],
   "source": [
    "X_test[0]"
   ]
  },
  {
   "cell_type": "code",
   "execution_count": 67,
   "id": "cfb474e1-81f4-4c61-a3a2-ca7d1e34c978",
   "metadata": {},
   "outputs": [
    {
     "data": {
      "text/plain": [
       "array([21,  4,  4,  4,  4,  4, 12, 12, 12, 12, 12, 12, 12, 12, 12, 12, 12,\n",
       "       12, 12, 12, 12, 12, 12, 12, 12, 12,  0,  0,  0,  0,  0,  0,  0,  0,\n",
       "        0,  0,  0,  0,  0,  0,  0,  0,  0,  0,  0,  0,  0,  0,  0,  0,  0,\n",
       "        0,  0,  0,  0,  0,  0,  0,  0,  0,  0,  0,  0,  0,  0,  0,  0,  0,\n",
       "        0,  0,  0,  0,  0,  0,  0])"
      ]
     },
     "execution_count": 67,
     "metadata": {},
     "output_type": "execute_result"
    }
   ],
   "source": [
    "y_test[0]"
   ]
  },
  {
   "cell_type": "code",
   "execution_count": 68,
   "id": "fde8b503-7e4e-43a8-b23d-fcfcccc56926",
   "metadata": {},
   "outputs": [
    {
     "name": "stdout",
     "output_type": "stream",
     "text": [
      "121/121 [==============================] - 7s 57ms/step\n"
     ]
    }
   ],
   "source": [
    "#predicting probabilities\n",
    "y_test_pred_prob = model.predict(X_test)"
   ]
  },
  {
   "cell_type": "code",
   "execution_count": 69,
   "id": "8dadea22-1533-46f4-9882-964127829e7a",
   "metadata": {},
   "outputs": [
    {
     "data": {
      "text/plain": [
       "array([[-0.49662346, -0.08926046, -0.25474542, ..., -0.18181936,\n",
       "         0.10384956, -0.0183765 ],\n",
       "       [-0.36524734, -0.10205769,  0.05035735, ..., -0.06529163,\n",
       "         0.04430005, -0.08518974],\n",
       "       [-0.45759845, -0.11493862,  0.03634344, ..., -0.05574173,\n",
       "         0.04887457, -0.09386937],\n",
       "       ...,\n",
       "       [ 0.60850763, -0.02545256,  0.00628159, ..., -0.02367358,\n",
       "        -0.00660952,  0.00448946],\n",
       "       [ 0.60850763, -0.02545256,  0.00628159, ..., -0.02367358,\n",
       "        -0.00660952,  0.00448946],\n",
       "       [ 0.60850763, -0.02545256,  0.00628159, ..., -0.02367358,\n",
       "        -0.00660952,  0.00448946]], dtype=float32)"
      ]
     },
     "execution_count": 69,
     "metadata": {},
     "output_type": "execute_result"
    }
   ],
   "source": [
    "y_test_pred_prob[0]"
   ]
  },
  {
   "cell_type": "code",
   "execution_count": 70,
   "id": "4dd6095e-53c7-4894-b348-095600bd1a53",
   "metadata": {},
   "outputs": [
    {
     "data": {
      "text/plain": [
       "(3849, 75, 23)"
      ]
     },
     "execution_count": 70,
     "metadata": {},
     "output_type": "execute_result"
    }
   ],
   "source": [
    "y_test_pred_prob.shape"
   ]
  },
  {
   "cell_type": "code",
   "execution_count": 71,
   "id": "66a94d1d-fb93-4e1a-9ee2-547ba003b061",
   "metadata": {},
   "outputs": [
    {
     "data": {
      "text/plain": [
       "75"
      ]
     },
     "execution_count": 71,
     "metadata": {},
     "output_type": "execute_result"
    }
   ],
   "source": [
    "len(y_test_pred_prob[0])"
   ]
  },
  {
   "cell_type": "code",
   "execution_count": 72,
   "id": "b12881b7-350f-49bb-af21-e433c6bb7a35",
   "metadata": {},
   "outputs": [],
   "source": [
    "#Convert probabilities to class predictions (for multi-class classification)\n",
    "y_pred_val = np.argmax(y_test_pred_prob, axis=2)"
   ]
  },
  {
   "cell_type": "code",
   "execution_count": 73,
   "id": "36ac79ba-ace1-43ea-b67b-18a4fd9b7b9f",
   "metadata": {},
   "outputs": [
    {
     "data": {
      "text/plain": [
       "array([12, 12, 12, 12, 12, 12, 12, 12, 12, 12, 12, 12, 12, 12, 12, 12, 12,\n",
       "       12, 12, 12, 12, 12, 12, 12, 12, 12,  0,  0,  0,  0,  0,  0,  0,  0,\n",
       "        0,  0,  0,  0,  0,  0,  0,  0,  0,  0,  0,  0,  0,  0,  0,  0,  0,\n",
       "        0,  0,  0,  0,  0,  0,  0,  0,  0,  0,  0,  0,  0,  0,  0,  0,  0,\n",
       "        0,  0,  0,  0,  0,  0,  0], dtype=int64)"
      ]
     },
     "execution_count": 73,
     "metadata": {},
     "output_type": "execute_result"
    }
   ],
   "source": [
    "y_pred_val[0]"
   ]
  },
  {
   "cell_type": "code",
   "execution_count": 74,
   "id": "eb181153-f849-4d85-811b-590fb602c5fa",
   "metadata": {},
   "outputs": [
    {
     "data": {
      "text/plain": [
       "75"
      ]
     },
     "execution_count": 74,
     "metadata": {},
     "output_type": "execute_result"
    }
   ],
   "source": [
    "len(y_pred_val[0])"
   ]
  },
  {
   "cell_type": "code",
   "execution_count": 75,
   "id": "6320cd8f-62cf-470e-9e8b-95baec1a4a57",
   "metadata": {},
   "outputs": [
    {
     "name": "stdout",
     "output_type": "stream",
     "text": [
      "Accuracy: 0.919074316582092\n"
     ]
    }
   ],
   "source": [
    "# Convert predictions and true labels, ignoring padding tokens\n",
    "y_pred_flat, y_true_flat = filter_padding(y_pred_val, y_test)\n",
    "\n",
    "# Calculate accuracy\n",
    "accuracy = accuracy_score(y_true_flat, y_pred_flat)\n",
    "print(f\"Accuracy: {accuracy}\")"
   ]
  },
  {
   "cell_type": "code",
   "execution_count": 76,
   "id": "2eddda07-f8d7-460b-9e88-befdc7b58a0c",
   "metadata": {},
   "outputs": [
    {
     "name": "stdout",
     "output_type": "stream",
     "text": [
      "Classification Report:\n",
      "              precision    recall  f1-score   support\n",
      "\n",
      "           2       0.00      0.00      0.00       375\n",
      "           3       0.07      0.03      0.04       132\n",
      "           4       0.15      0.03      0.05       415\n",
      "           5       0.00      0.00      0.00       270\n",
      "           6       0.00      0.00      0.00       106\n",
      "           7       0.00      0.00      0.00        39\n",
      "           9       0.02      0.04      0.03        25\n",
      "          10       0.00      0.00      0.00       229\n",
      "          11       0.00      0.00      0.00        29\n",
      "          12       0.93      0.99      0.96     45094\n",
      "          13       0.25      0.01      0.01       343\n",
      "          14       0.00      0.00      0.00       152\n",
      "          15       0.00      0.00      0.00        41\n",
      "          16       0.09      0.12      0.10       400\n",
      "          17       0.00      0.00      0.00        26\n",
      "          18       0.56      0.02      0.04       646\n",
      "          19       0.00      0.00      0.00       194\n",
      "          20       0.00      0.00      0.00       161\n",
      "          22       0.00      0.00      0.00       195\n",
      "\n",
      "    accuracy                           0.92     48872\n",
      "   macro avg       0.11      0.07      0.07     48872\n",
      "weighted avg       0.87      0.92      0.89     48872\n",
      "\n"
     ]
    }
   ],
   "source": [
    "# Classification report\n",
    "print(\"Classification Report:\")\n",
    "print(classification_report(y_true_flat, y_pred_flat))"
   ]
  },
  {
   "cell_type": "code",
   "execution_count": 77,
   "id": "f9660deb-2852-40f0-859e-1e9b89563908",
   "metadata": {},
   "outputs": [
    {
     "data": {
      "text/plain": [
       "array([ 2,  3,  4,  5,  6,  7,  9, 10, 11, 12, 13, 14, 15, 16, 17, 18, 19,\n",
       "       20, 22])"
      ]
     },
     "execution_count": 77,
     "metadata": {},
     "output_type": "execute_result"
    }
   ],
   "source": [
    "np.unique(y_true_flat)"
   ]
  },
  {
   "cell_type": "code",
   "execution_count": 78,
   "id": "1d4696f6-90ad-4ac4-a502-47f4a01f9600",
   "metadata": {},
   "outputs": [
    {
     "data": {
      "text/plain": [
       "array([ 2,  3,  4,  5,  6,  7,  9, 10, 11, 12, 13, 14, 15, 16, 17, 18, 19],\n",
       "      dtype=int64)"
      ]
     },
     "execution_count": 78,
     "metadata": {},
     "output_type": "execute_result"
    }
   ],
   "source": [
    "np.unique(y_pred_flat)"
   ]
  },
  {
   "cell_type": "code",
   "execution_count": 79,
   "id": "c4464a7e-f359-4579-b050-5ea8f4b8a388",
   "metadata": {},
   "outputs": [
    {
     "data": {
      "image/png": "[encoded data removed]",
      "text/plain": [
       "<Figure size 1400x700 with 2 Axes>"
      ]
     },
     "metadata": {},
     "output_type": "display_data"
    }
   ],
   "source": [
    "# Compute the confusion matrix\n",
    "conf_matrix = confusion_matrix(y_true_flat, y_pred_flat)\n",
    "# Plot the heatmap\n",
    "plt.figure(figsize=(14, 7))\n",
    "sns.heatmap(conf_matrix, annot=True, fmt='d', cmap='Blues', xticklabels=np.unique(y_true_flat), yticklabels=np.unique(y_true_flat))\n",
    "# Labels and title\n",
    "plt.xlabel('Predicted Labels')\n",
    "plt.ylabel('True Labels')\n",
    "plt.title('Confusion Matrix Heatmap')\n",
    "plt.show()"
   ]
  },
  {
   "cell_type": "markdown",
   "id": "44e7c929-6fd4-40c7-94af-98a26515deda",
   "metadata": {},
   "source": [
    "**Insights**\n",
    "- The cell at (12, 12) shows 44,836 correct predictions, far higher than any other.\n",
    "\n",
    "- Several other diagonal entries show decent performance:\n",
    "    - Label 6: 210 correct predictions\n",
    "    - Label 8: 200\n",
    "    - Label 17: 511\n",
    "    - Label 19: 343\n",
    "    - Label 4: 361\n",
    "- Example: Label 21 and 22 show confusion with each other and label 12."
   ]
  },
  {
   "cell_type": "markdown",
   "id": "060edf6b-d0f3-4a02-83a8-3455fc97e26a",
   "metadata": {},
   "source": [
    "## **Word2vec : Word Embeddings with Bi-LSTM**\n",
    "\n",
    "Initialize word representations using embeddings like word2vec to capture contextual nuances.\n"
   ]
  },
  {
   "cell_type": "markdown",
   "id": "7a14ff18-45f0-48d5-b64a-7a15d95e6db7",
   "metadata": {},
   "source": [
    "#### **Embeddings**"
   ]
  },
  {
   "cell_type": "code",
   "execution_count": 80,
   "id": "830afb61-89aa-4e06-9f59-1847130b5ece",
   "metadata": {},
   "outputs": [
    {
     "data": {
      "text/plain": [
       "2393"
      ]
     },
     "execution_count": 80,
     "metadata": {},
     "output_type": "execute_result"
    }
   ],
   "source": [
    "len(data)"
   ]
  },
  {
   "cell_type": "code",
   "execution_count": 81,
   "id": "75f95f07-8a46-422d-95f1-b06ff8e29dbe",
   "metadata": {},
   "outputs": [
    {
     "name": "stdout",
     "output_type": "stream",
     "text": [
      "[('@SammieLynnsMom', 'O'), ('@tg10781', 'O'), ('they', 'O'), ('will', 'O'), ('be', 'O'), ('all', 'O'), ('done', 'O'), ('by', 'O'), ('Sunday', 'O'), ('trust', 'O'), ('me', 'O'), ('*wink*', 'O')]\n",
      "[('Made', 'O'), ('it', 'O'), ('back', 'O'), ('home', 'O'), ('to', 'O'), ('GA', 'B-geo-loc'), ('.', 'O'), ('It', 'O'), ('sucks', 'O'), ('not', 'O'), ('to', 'O'), ('be', 'O'), ('at', 'O'), ('Disney', 'B-facility'), ('world', 'I-facility'), (',', 'O'), ('but', 'O'), ('its', 'O'), ('good', 'O'), ('to', 'O'), ('be', 'O'), ('home', 'O'), ('.', 'O'), ('Time', 'O'), ('to', 'O'), ('start', 'O'), ('planning', 'O'), ('the', 'O'), ('next', 'O'), ('Disney', 'B-facility'), ('World', 'I-facility'), ('trip', 'O'), ('.', 'O')]\n",
      "[(\"'\", 'O'), ('Breaking', 'B-movie'), ('Dawn', 'I-movie'), (\"'\", 'O'), ('Returns', 'O'), ('to', 'O'), ('Vancouver', 'B-geo-loc'), ('on', 'O'), ('January', 'O'), ('11th', 'O'), ('http://bit.ly/dbDMs8', 'O')]\n",
      "[('@ls_n', 'O'), ('perhaps', 'O'), (',', 'O'), ('but', 'O'), ('folks', 'O'), ('may', 'O'), ('find', 'O'), ('something', 'O'), ('in', 'O'), ('the', 'O'), ('gallery', 'O'), ('that', 'O'), ('is', 'O'), ('helpful', 'O'), ('in', 'O'), ('their', 'O'), ('day-to-day', 'O'), ('work', 'O'), ('as', 'O'), ('well', 'O'), ('.', 'O'), ('Even', 'O'), ('just', 'O'), ('to', 'O'), ('use', 'O'), ('it', 'O'), ('.', 'O')]\n",
      "[('@Carr0t', 'O'), ('aye', 'O'), ('been', 'O'), ('tonight', 'O'), ('-', 'O'), ('excellent', 'O')]\n"
     ]
    }
   ],
   "source": [
    "for i in range(5) :\n",
    "    print(data[i])"
   ]
  },
  {
   "cell_type": "markdown",
   "id": "08792ae1-6de9-4843-965a-67e204c6f6d6",
   "metadata": {},
   "source": [
    "We have to do :\n",
    "1. Preprocessing to remove tags and extract tokens\n",
    "2. Train the word2vec model\n",
    "3. Access word embeddings"
   ]
  },
  {
   "cell_type": "code",
   "execution_count": 82,
   "id": "63c59bee-ca09-4d29-a515-11f5b8daa1ec",
   "metadata": {},
   "outputs": [],
   "source": [
    "#Preprocess the data to remove tags and extract tokens\n",
    "sentences = [[word for word, tag in sentence] for sentence in data]\n",
    "\n",
    "\n",
    "#Train Word2Vec model\n",
    "embedding_size = 150\n",
    "word2vec_model = Word2Vec(\n",
    "                    sentences,\n",
    "                    vector_size=embedding_size,\n",
    "                    window=5,      # Context window size\n",
    "                    min_count=1,   # Include all words\n",
    "                    workers=4,     # Number of threads\n",
    "                    sg=1,          # Skip-gram model\n",
    "                    epochs=50      # Number of training epochs\n",
    ")\n"
   ]
  },
  {
   "cell_type": "code",
   "execution_count": 83,
   "id": "aac7f304-f9bf-4adc-935f-8ae9c5ce76fe",
   "metadata": {},
   "outputs": [
    {
     "name": "stdout",
     "output_type": "stream",
     "text": [
      "Vector for 'Disney': [-0.19565754  0.0379025  -0.05798721 -0.43139386  0.01612567  0.07583405\n",
      "  0.20659405 -0.09022742 -0.07144943  0.03971274  0.47373027 -0.1063149\n",
      "  0.09197829 -0.11034208  0.02919286 -0.16154766  0.08457588 -0.39511\n",
      " -0.38316485 -0.46006653 -0.15271771  0.11452392  0.34693     0.08587214\n",
      " -0.46673056 -0.27040383 -0.81301063 -0.13945514  0.01403814 -0.54830575\n",
      " -0.05635606  0.48414603 -0.0250151  -0.2413497  -0.35426027  0.282493\n",
      "  0.5811573  -0.15388617  0.2147295  -0.05884006  0.05971799 -0.39104307\n",
      " -0.07654746 -0.28607187  0.12851512 -0.0640583  -0.22676156 -0.23939234\n",
      "  0.11624962  0.40559003 -0.27660415  0.15829806 -0.19718081  0.21147297\n",
      "  0.47331193 -0.21612026  0.13504826  0.06787694  0.11335698 -0.1254371\n",
      " -0.36593306 -0.2626308   0.45882696  0.24598198  0.18229686  0.20562327\n",
      "  0.22598733 -0.19017833 -0.30808342 -0.08299855  0.28498495  0.27809057\n",
      "  0.25957063 -0.15629344  0.00910866  0.08829884 -0.10943609  0.06440102\n",
      "  0.07107375 -0.06234744  0.22665094 -0.17425628 -0.38487247  0.69250274\n",
      " -0.2952925  -0.05387065 -0.07046764 -0.15186638  0.06836801  0.12428413\n",
      "  0.07619499 -0.28832358 -0.12470317 -0.26424736  0.31110016 -0.10839342\n",
      " -0.11373261 -0.06478864  0.10406063 -0.00394802  0.03036339 -0.12214901\n",
      " -0.07680405 -0.04050501 -0.10154698 -0.4012076   0.3487811  -0.02647284\n",
      " -0.48807353  0.02378855 -0.28242645  0.13563725  0.09858098  0.11726248\n",
      " -0.19570467  0.36056635  0.0439257   0.15397039  0.06464426 -0.40985462\n",
      "  0.15961654  0.06274852  0.24699469  0.02858241 -0.13249283  0.31072015\n",
      " -0.15297937  0.14115123 -0.26432183  0.425664    0.18405205  0.09276126\n",
      "  0.07149807 -0.32452795 -0.37561458  0.24093513 -0.32597435  0.00962991\n",
      " -0.54270226  0.1988591   0.3708182  -0.20444535 -0.2702997   0.17850025\n",
      "  0.55979973  0.4143194   0.18266198 -0.34143862  0.1324395  -0.26078412]\n"
     ]
    }
   ],
   "source": [
    "#Access word embeddings\n",
    "word_embeddings = word2vec_model.wv\n",
    "print(f\"Vector for 'Disney': {word_embeddings['Disney']}\")"
   ]
  },
  {
   "cell_type": "code",
   "execution_count": 84,
   "id": "3349c96e-90e2-4c5a-b25f-7991816755bd",
   "metadata": {},
   "outputs": [
    {
     "name": "stdout",
     "output_type": "stream",
     "text": [
      "Vector for 'home': [-0.19565754  0.0379025  -0.05798721 -0.43139386  0.01612567  0.07583405\n",
      "  0.20659405 -0.09022742 -0.07144943  0.03971274  0.47373027 -0.1063149\n",
      "  0.09197829 -0.11034208  0.02919286 -0.16154766  0.08457588 -0.39511\n",
      " -0.38316485 -0.46006653 -0.15271771  0.11452392  0.34693     0.08587214\n",
      " -0.46673056 -0.27040383 -0.81301063 -0.13945514  0.01403814 -0.54830575\n",
      " -0.05635606  0.48414603 -0.0250151  -0.2413497  -0.35426027  0.282493\n",
      "  0.5811573  -0.15388617  0.2147295  -0.05884006  0.05971799 -0.39104307\n",
      " -0.07654746 -0.28607187  0.12851512 -0.0640583  -0.22676156 -0.23939234\n",
      "  0.11624962  0.40559003 -0.27660415  0.15829806 -0.19718081  0.21147297\n",
      "  0.47331193 -0.21612026  0.13504826  0.06787694  0.11335698 -0.1254371\n",
      " -0.36593306 -0.2626308   0.45882696  0.24598198  0.18229686  0.20562327\n",
      "  0.22598733 -0.19017833 -0.30808342 -0.08299855  0.28498495  0.27809057\n",
      "  0.25957063 -0.15629344  0.00910866  0.08829884 -0.10943609  0.06440102\n",
      "  0.07107375 -0.06234744  0.22665094 -0.17425628 -0.38487247  0.69250274\n",
      " -0.2952925  -0.05387065 -0.07046764 -0.15186638  0.06836801  0.12428413\n",
      "  0.07619499 -0.28832358 -0.12470317 -0.26424736  0.31110016 -0.10839342\n",
      " -0.11373261 -0.06478864  0.10406063 -0.00394802  0.03036339 -0.12214901\n",
      " -0.07680405 -0.04050501 -0.10154698 -0.4012076   0.3487811  -0.02647284\n",
      " -0.48807353  0.02378855 -0.28242645  0.13563725  0.09858098  0.11726248\n",
      " -0.19570467  0.36056635  0.0439257   0.15397039  0.06464426 -0.40985462\n",
      "  0.15961654  0.06274852  0.24699469  0.02858241 -0.13249283  0.31072015\n",
      " -0.15297937  0.14115123 -0.26432183  0.425664    0.18405205  0.09276126\n",
      "  0.07149807 -0.32452795 -0.37561458  0.24093513 -0.32597435  0.00962991\n",
      " -0.54270226  0.1988591   0.3708182  -0.20444535 -0.2702997   0.17850025\n",
      "  0.55979973  0.4143194   0.18266198 -0.34143862  0.1324395  -0.26078412]\n"
     ]
    }
   ],
   "source": [
    "word_embeddings = word2vec_model.wv\n",
    "print(f\"Vector for 'home': {word_embeddings['Disney']}\")"
   ]
  },
  {
   "cell_type": "code",
   "execution_count": 85,
   "id": "096f5da0-0b71-4d82-b387-ad209b72476c",
   "metadata": {},
   "outputs": [
    {
     "data": {
      "text/plain": [
       "10585"
      ]
     },
     "execution_count": 85,
     "metadata": {},
     "output_type": "execute_result"
    }
   ],
   "source": [
    "len(word_embeddings)"
   ]
  },
  {
   "cell_type": "markdown",
   "id": "42766563-1eaa-4ff3-9f89-278ba65f0c28",
   "metadata": {},
   "source": [
    "### **Features and Label, Data Splitting**"
   ]
  },
  {
   "cell_type": "code",
   "execution_count": 86,
   "id": "1c1dd76b-ce6c-4208-8d88-ff3073b86bd7",
   "metadata": {},
   "outputs": [],
   "source": [
    "X = [[word_embeddings[word] for word,tag in sentence] for sentence in data]\n",
    "\n",
    "# pad the sequences, to have same length\n",
    "X = pad_sequences(\n",
    "        maxlen = 100,\n",
    "        sequences = X,\n",
    "        padding = \"post\",\n",
    "        dtype = \"float32\")"
   ]
  },
  {
   "cell_type": "code",
   "execution_count": 87,
   "id": "19a684d6-d4bf-444a-89e5-8ff394dfa5bd",
   "metadata": {},
   "outputs": [
    {
     "name": "stdout",
     "output_type": "stream",
     "text": [
      "Raw Sample:\n",
      "  @SammieLynnsMom @tg10781 they will be all done by Sunday trust me *wink*\n"
     ]
    }
   ],
   "source": [
    "print('Raw Sample:\\n ', ' '.join([w[0] for w in data[0]]))"
   ]
  },
  {
   "cell_type": "code",
   "execution_count": 88,
   "id": "eed436ef-e21e-4b86-baf1-661f2a9c313c",
   "metadata": {},
   "outputs": [
    {
     "data": {
      "text/plain": [
       "array([[ 0.03337417,  0.03831588, -0.00625378, ..., -0.0658076 ,\n",
       "         0.17180328, -0.19569074],\n",
       "       [ 0.06817788,  0.061602  , -0.02806851, ..., -0.0515852 ,\n",
       "         0.17300291, -0.22552273],\n",
       "       [ 0.3046341 , -0.00773434, -0.06674184, ...,  0.20184746,\n",
       "        -0.01716485, -0.13468324],\n",
       "       ...,\n",
       "       [ 0.        ,  0.        ,  0.        , ...,  0.        ,\n",
       "         0.        ,  0.        ],\n",
       "       [ 0.        ,  0.        ,  0.        , ...,  0.        ,\n",
       "         0.        ,  0.        ],\n",
       "       [ 0.        ,  0.        ,  0.        , ...,  0.        ,\n",
       "         0.        ,  0.        ]], dtype=float32)"
      ]
     },
     "execution_count": 88,
     "metadata": {},
     "output_type": "execute_result"
    }
   ],
   "source": [
    "X[0]"
   ]
  },
  {
   "cell_type": "code",
   "execution_count": 89,
   "id": "0b2e16ca-c661-4190-9c84-d0fec7587216",
   "metadata": {},
   "outputs": [
    {
     "data": {
      "text/plain": [
       "(2393, 100, 150)"
      ]
     },
     "execution_count": 89,
     "metadata": {},
     "output_type": "execute_result"
    }
   ],
   "source": [
    "X.shape"
   ]
  },
  {
   "cell_type": "code",
   "execution_count": 90,
   "id": "cfdd8e62-ed82-46ee-97bf-11158b6eecee",
   "metadata": {},
   "outputs": [
    {
     "data": {
      "text/plain": [
       "2393"
      ]
     },
     "execution_count": 90,
     "metadata": {},
     "output_type": "execute_result"
    }
   ],
   "source": [
    "len(X)"
   ]
  },
  {
   "cell_type": "code",
   "execution_count": 91,
   "id": "5cbee7a6-6797-4c95-99f2-c75a5457ce20",
   "metadata": {},
   "outputs": [],
   "source": [
    "# Convert my Tag/Label to tag_index\n",
    "y = [[tag2idx[ele[1]] for ele in sentence] for sentence in data]\n",
    "\n",
    "# Padding each label to have same length\n",
    "y = pad_sequences(\n",
    "        maxlen = 100,\n",
    "        sequences = y,\n",
    "        padding = \"post\",\n",
    "        value = tag2idx[\"PAD\"]\n",
    ")\n",
    "\n",
    "\n",
    "# One-Hot encode\n",
    "y = [to_categorical(i, num_classes=23) for i in y] # n_tags+1(PAD) "
   ]
  },
  {
   "cell_type": "code",
   "execution_count": 92,
   "id": "c9694946-a3bb-4027-8d07-ddcc473deeb1",
   "metadata": {},
   "outputs": [
    {
     "name": "stdout",
     "output_type": "stream",
     "text": [
      "Raw Label:\n",
      "  O O O O O O O O O O O O\n"
     ]
    }
   ],
   "source": [
    "print('Raw Label:\\n ', ' '.join([w[1] for w in data[0]]))\n"
   ]
  },
  {
   "cell_type": "code",
   "execution_count": 93,
   "id": "cea170b3-ca18-4ada-8db7-e38d86ff338b",
   "metadata": {},
   "outputs": [
    {
     "data": {
      "text/plain": [
       "array([[0., 0., 0., ..., 0., 0., 0.],\n",
       "       [0., 0., 0., ..., 0., 0., 0.],\n",
       "       [0., 0., 0., ..., 0., 0., 0.],\n",
       "       ...,\n",
       "       [1., 0., 0., ..., 0., 0., 0.],\n",
       "       [1., 0., 0., ..., 0., 0., 0.],\n",
       "       [1., 0., 0., ..., 0., 0., 0.]], dtype=float32)"
      ]
     },
     "execution_count": 93,
     "metadata": {},
     "output_type": "execute_result"
    }
   ],
   "source": [
    "y[0]"
   ]
  },
  {
   "cell_type": "code",
   "execution_count": 94,
   "id": "0da5afb9-53cc-4325-a6ed-c093447ff308",
   "metadata": {},
   "outputs": [
    {
     "data": {
      "text/plain": [
       "100"
      ]
     },
     "execution_count": 94,
     "metadata": {},
     "output_type": "execute_result"
    }
   ],
   "source": [
    "len(y[0])"
   ]
  },
  {
   "cell_type": "code",
   "execution_count": 95,
   "id": "ecbc03e4-84a4-402c-89e3-b66b8f1e7ff1",
   "metadata": {},
   "outputs": [
    {
     "data": {
      "text/plain": [
       "2393"
      ]
     },
     "execution_count": 95,
     "metadata": {},
     "output_type": "execute_result"
    }
   ],
   "source": [
    "len(y)"
   ]
  },
  {
   "cell_type": "code",
   "execution_count": 96,
   "id": "aef05226-d19b-47b1-bbae-8f0fa2be4c03",
   "metadata": {},
   "outputs": [],
   "source": [
    "# Data Splitting\n",
    "X_train, X_test, y_train, y_test = train_test_split(X, y, test_size=0.1)\n",
    "y_train = np.array(y_train)\n",
    "y_test = np.array(y_test)\n"
   ]
  },
  {
   "cell_type": "markdown",
   "id": "4722fb67-0ec8-4c3c-af56-e06f9bc0b738",
   "metadata": {},
   "source": [
    "### **Modeling**"
   ]
  },
  {
   "cell_type": "code",
   "execution_count": 97,
   "id": "e120692b-5e64-486f-9e4c-038f5f958740",
   "metadata": {},
   "outputs": [],
   "source": [
    "\n",
    "embedding_size = 150\n",
    "\n",
    "def build_model(max_len=100, embedding_dim=embedding_size):\n",
    "    input_layer = Input(shape=(max_len, embedding_dim), name='input_layer')\n",
    "\n",
    "    #BiLSTM\n",
    "    lstm_output = Bidirectional(LSTM(units=50, return_sequences=True, dropout=0.3))(input_layer)\n",
    "    lstm_output = Bidirectional(LSTM(units=50, return_sequences=True, dropout=0.3))(lstm_output)\n",
    "\n",
    "    #Dense layer\n",
    "    dense_output = TimeDistributed(Dense(64, activation=\"relu\"))(lstm_output)\n",
    "\n",
    "    #CRF layer\n",
    "    crf = CRF(23, name='crf')\n",
    "    predicted_sequence, potentials, sequence_length, crf_kernel = crf(dense_output)\n",
    "\n",
    "    model = Model(inputs=input_layer, outputs=potentials, name=\"Twitter_NER_V1\")\n",
    "\n",
    "    model.compile(\n",
    "        optimizer=AdamW(weight_decay=0.001, learning_rate=0.001),\n",
    "        loss=SigmoidFocalCrossEntropy(),\n",
    "        metrics=[\"accuracy\"]\n",
    "    )\n",
    "\n",
    "    return model\n"
   ]
  },
  {
   "cell_type": "code",
   "execution_count": 98,
   "id": "d5ce9c72-4b2a-4947-bab6-f4e4a1ca316f",
   "metadata": {},
   "outputs": [],
   "source": [
    "#model builiding\n",
    "wv_ner_model = build_model()"
   ]
  },
  {
   "cell_type": "code",
   "execution_count": 99,
   "id": "07abbba8-064d-42bd-9dc9-d2d32a699457",
   "metadata": {},
   "outputs": [
    {
     "name": "stdout",
     "output_type": "stream",
     "text": [
      "Model: \"Twitter_NER_V1\"\n",
      "_________________________________________________________________\n",
      " Layer (type)                Output Shape              Param #   \n",
      "=================================================================\n",
      " input_layer (InputLayer)    [(None, 100, 150)]        0         \n",
      "                                                                 \n",
      " bidirectional_2 (Bidirectio  (None, 100, 100)         80400     \n",
      " nal)                                                            \n",
      "                                                                 \n",
      " bidirectional_3 (Bidirectio  (None, 100, 100)         60400     \n",
      " nal)                                                            \n",
      "                                                                 \n",
      " time_distributed_1 (TimeDis  (None, 100, 64)          6464      \n",
      " tributed)                                                       \n",
      "                                                                 \n",
      " crf (CRF)                   [(None, 100),             2070      \n",
      "                              (None, 100, 23),                   \n",
      "                              (None,),                           \n",
      "                              (23, 23)]                          \n",
      "                                                                 \n",
      "=================================================================\n",
      "Total params: 149,334\n",
      "Trainable params: 149,334\n",
      "Non-trainable params: 0\n",
      "_________________________________________________________________\n"
     ]
    }
   ],
   "source": [
    "# Checkpointing\n",
    "save_model = tf.keras.callbacks.ModelCheckpoint(filepath='wv_twitter_ner_crf.weights.h5',\n",
    "                monitor='val_loss',\n",
    "                save_weights_only=True,\n",
    "                save_best_only=True,\n",
    "                verbose=1\n",
    ")\n",
    "\n",
    "\n",
    "# Early stopping\n",
    "es = tf.keras.callbacks.EarlyStopping(monitor='val_loss', verbose=1, patience=10)\n",
    "callbacks = [save_model, es]\n",
    "\n",
    "\n",
    "wv_ner_model.summary()"
   ]
  },
  {
   "cell_type": "code",
   "execution_count": 100,
   "id": "60374238-a6f8-4bd6-99f0-d39ccadc106f",
   "metadata": {},
   "outputs": [
    {
     "name": "stdout",
     "output_type": "stream",
     "text": [
      "Epoch 1/10\n",
      "WARNING:tensorflow:Gradients do not exist for variables ['chain_kernel:0'] when minimizing the loss. If you're using `model.compile()`, did you forget to provide a `loss` argument?\n",
      "WARNING:tensorflow:Gradients do not exist for variables ['chain_kernel:0'] when minimizing the loss. If you're using `model.compile()`, did you forget to provide a `loss` argument?\n",
      "68/68 [==============================] - 37s 310ms/step - loss: 0.2480 - accuracy: 0.9477 - val_loss: 0.0246 - val_accuracy: 0.9827\n",
      "Epoch 2/10\n",
      "68/68 [==============================] - 19s 285ms/step - loss: 0.0194 - accuracy: 0.9849 - val_loss: 0.0162 - val_accuracy: 0.9855\n",
      "Epoch 3/10\n",
      "68/68 [==============================] - 21s 312ms/step - loss: 0.0167 - accuracy: 0.9864 - val_loss: 0.0172 - val_accuracy: 0.9876\n",
      "Epoch 4/10\n",
      "68/68 [==============================] - 19s 276ms/step - loss: 0.0151 - accuracy: 0.9869 - val_loss: 0.0143 - val_accuracy: 0.9882\n",
      "Epoch 5/10\n",
      "68/68 [==============================] - 19s 286ms/step - loss: 0.0143 - accuracy: 0.9871 - val_loss: 0.0141 - val_accuracy: 0.9866\n",
      "Epoch 6/10\n",
      "68/68 [==============================] - 18s 259ms/step - loss: 0.0139 - accuracy: 0.9876 - val_loss: 0.0135 - val_accuracy: 0.9880\n",
      "Epoch 7/10\n",
      "68/68 [==============================] - 18s 267ms/step - loss: 0.0135 - accuracy: 0.9879 - val_loss: 0.0133 - val_accuracy: 0.9888\n",
      "Epoch 8/10\n",
      "68/68 [==============================] - 18s 266ms/step - loss: 0.0132 - accuracy: 0.9880 - val_loss: 0.0131 - val_accuracy: 0.9882\n",
      "Epoch 9/10\n",
      "68/68 [==============================] - 16s 237ms/step - loss: 0.0133 - accuracy: 0.9877 - val_loss: 0.0135 - val_accuracy: 0.9885\n",
      "Epoch 10/10\n",
      "68/68 [==============================] - 20s 295ms/step - loss: 0.0128 - accuracy: 0.9882 - val_loss: 0.0125 - val_accuracy: 0.9887\n"
     ]
    }
   ],
   "source": [
    "#model fitting\n",
    "history = wv_ner_model.fit(\n",
    "    X_train, y_train,\n",
    "    validation_data = (X_test, y_test),\n",
    "    batch_size=BATCH_SIZE,\n",
    "    epochs=10,\n",
    "    shuffle = True)\n"
   ]
  },
  {
   "cell_type": "code",
   "execution_count": 101,
   "id": "b7c0d6bb-6e69-4a38-814e-a72493011d5c",
   "metadata": {},
   "outputs": [
    {
     "data": {
      "image/png": "[encoded data removed]",
      "text/plain": [
       "<Figure size 640x480 with 1 Axes>"
      ]
     },
     "metadata": {},
     "output_type": "display_data"
    },
    {
     "data": {
      "image/png": "[encoded data removed]",
      "text/plain": [
       "<Figure size 640x480 with 1 Axes>"
      ]
     },
     "metadata": {},
     "output_type": "display_data"
    }
   ],
   "source": [
    "# Accuracy plot\n",
    "plt.plot(history.history['accuracy'])\n",
    "plt.plot(history.history['val_accuracy'])\n",
    "plt.title('Model Accuracy')\n",
    "plt.xlabel('Epoch')\n",
    "plt.ylabel('Accuracy')\n",
    "plt.legend(['Train', 'Validation'])\n",
    "plt.show()\n",
    "\n",
    "# Loss plot\n",
    "plt.plot(history.history['loss'])\n",
    "plt.plot(history.history['val_loss'])\n",
    "plt.title('Model Loss')\n",
    "plt.xlabel('Epoch')\n",
    "plt.ylabel('Loss')\n",
    "plt.legend(['Train', 'Validation'])\n",
    "plt.show()"
   ]
  },
  {
   "cell_type": "markdown",
   "id": "027e7941-eb27-499f-bab4-026ced0b6cec",
   "metadata": {},
   "source": [
    "### **Validation Data : Evaluation**"
   ]
  },
  {
   "cell_type": "code",
   "execution_count": 102,
   "id": "f7094bf7-32df-4c79-934d-82bf8ddc0116",
   "metadata": {},
   "outputs": [
    {
     "name": "stdout",
     "output_type": "stream",
     "text": [
      "8/8 [==============================] - 5s 65ms/step\n"
     ]
    }
   ],
   "source": [
    "# Predict probabilities\n",
    "y_val_prob_pred = wv_ner_model.predict(X_test)\n",
    "y_pred_val = np.argmax(y_val_prob_pred, axis=2)\n"
   ]
  },
  {
   "cell_type": "code",
   "execution_count": 103,
   "id": "b9672c14-eb0d-46f0-8f65-5ded026f54cb",
   "metadata": {},
   "outputs": [
    {
     "name": "stdout",
     "output_type": "stream",
     "text": [
      "Accuracy: 0.9516688339835284\n"
     ]
    }
   ],
   "source": [
    "# Convert predictions and true labels, ignoring padding tokens\n",
    "y_pred_flat, y_true_flat = filter_padding(y_pred_val, np.argmax(y_test, axis=2))\n",
    "\n",
    "# Calculate metrics\n",
    "accuracy = accuracy_score(y_true_flat, y_pred_flat)\n",
    "print(f\"Accuracy: {accuracy}\")"
   ]
  },
  {
   "cell_type": "code",
   "execution_count": 104,
   "id": "3e74cd6a-9d4c-4ed3-9957-affa42df217d",
   "metadata": {},
   "outputs": [
    {
     "name": "stdout",
     "output_type": "stream",
     "text": [
      "Classification Report:\n",
      "              precision    recall  f1-score   support\n",
      "\n",
      "           2       0.00      0.00      0.00        20\n",
      "           3       0.00      0.00      0.00         9\n",
      "           4       0.00      0.00      0.00        20\n",
      "           5       0.00      0.00      0.00         6\n",
      "           6       0.00      0.00      0.00         5\n",
      "           7       0.00      0.00      0.00         2\n",
      "           9       0.00      0.00      0.00         4\n",
      "          10       0.00      0.00      0.00        23\n",
      "          11       0.00      0.00      0.00         4\n",
      "          12       0.95      1.00      0.98      4391\n",
      "          13       0.00      0.00      0.00        21\n",
      "          14       0.00      0.00      0.00         4\n",
      "          15       0.00      0.00      0.00         7\n",
      "          16       0.00      0.00      0.00        48\n",
      "          17       0.00      0.00      0.00         3\n",
      "          18       0.00      0.00      0.00        24\n",
      "          19       0.00      0.00      0.00        11\n",
      "          20       0.00      0.00      0.00         5\n",
      "          22       0.00      0.00      0.00         7\n",
      "\n",
      "    accuracy                           0.95      4614\n",
      "   macro avg       0.05      0.05      0.05      4614\n",
      "weighted avg       0.91      0.95      0.93      4614\n",
      "\n"
     ]
    }
   ],
   "source": [
    "print(\"Classification Report:\")\n",
    "print(classification_report(y_true_flat, y_pred_flat))"
   ]
  },
  {
   "cell_type": "code",
   "execution_count": 105,
   "id": "7dffbd51-8cbf-47f7-a099-4f890e94baf0",
   "metadata": {},
   "outputs": [
    {
     "data": {
      "image/png": "[encoded data removed]",
      "text/plain": [
       "<Figure size 1400x700 with 2 Axes>"
      ]
     },
     "metadata": {},
     "output_type": "display_data"
    }
   ],
   "source": [
    "# # Compute the confusion matrix\n",
    "conf_matrix = confusion_matrix(y_true_flat, y_pred_flat)\n",
    "# # Plot the heatmap\n",
    "plt.figure(figsize=(14, 7))\n",
    "sns.heatmap(conf_matrix, annot=True, fmt='d', cmap='Blues', xticklabels=np.unique(y_true_flat), yticklabels=np.unique(y_true_flat))\n",
    "# # Labels and title\n",
    "plt.xlabel('Predicted Labels')\n",
    "plt.ylabel('True Labels')\n",
    "plt.title('Confusion Matrix Heatmap')\n",
    "plt.show()\n"
   ]
  },
  {
   "cell_type": "markdown",
   "id": "89456f53-c614-4c66-9c80-88949272db8d",
   "metadata": {},
   "source": [
    "### **Testing data evaluation**"
   ]
  },
  {
   "cell_type": "code",
   "execution_count": 106,
   "id": "07df47d9-e1a8-4db8-b6d1-9758ee07e96c",
   "metadata": {},
   "outputs": [],
   "source": [
    "# Define a default (zero) embedding for OOV words\n",
    "unk_embedding = np.zeros(embedding_size)\n",
    "\n",
    "# Function to get embeddings \n",
    "def get_embedding(word) :\n",
    "    try :\n",
    "        #access the work vector from the model\n",
    "        return word_embeddings[word]\n",
    "    except KeyError:\n",
    "        #return a zero vector of OOV(out of vocabulary) words \n",
    "        return unk_embedding\n",
    "\n",
    "\n",
    "X_test = [[get_embedding(word) for word,tag in sentence] for sentence in test_data]\n",
    "\n",
    "# pad the sequences, to have same length\n",
    "X_test = pad_sequences(\n",
    "            maxlen = 100,\n",
    "            sequences = X_test,\n",
    "            padding = \"post\",\n",
    "            dtype = \"float32\"\n",
    ")\n"
   ]
  },
  {
   "cell_type": "code",
   "execution_count": 107,
   "id": "4d4eacbd-f18d-4466-b65c-6c687a40ed9f",
   "metadata": {},
   "outputs": [
    {
     "name": "stdout",
     "output_type": "stream",
     "text": [
      "Raw Sample:\n",
      "  New Orleans Mother 's Day Parade shooting . One of the people hurt was a 10-year-old girl . WHAT THE HELL IS WRONG WITH PEOPLE ?\n"
     ]
    }
   ],
   "source": [
    "print('Raw Sample:\\n ', ' '.join([w[0] for w in test_data[0]]))"
   ]
  },
  {
   "cell_type": "code",
   "execution_count": 108,
   "id": "c38726fe-8c8b-4238-accd-63482a9dbd4c",
   "metadata": {},
   "outputs": [
    {
     "name": "stdout",
     "output_type": "stream",
     "text": [
      "After processing, sample:\n",
      " [[ 0.1727319   0.9027451  -0.5327502  ... -0.41624287  0.21264414\n",
      "  -0.20837386]\n",
      " [ 0.          0.          0.         ...  0.          0.\n",
      "   0.        ]\n",
      " [ 0.          0.          0.         ...  0.          0.\n",
      "   0.        ]\n",
      " ...\n",
      " [ 0.          0.          0.         ...  0.          0.\n",
      "   0.        ]\n",
      " [ 0.          0.          0.         ...  0.          0.\n",
      "   0.        ]\n",
      " [ 0.          0.          0.         ...  0.          0.\n",
      "   0.        ]]\n"
     ]
    }
   ],
   "source": [
    "print('After processing, sample:\\n', X_test[0])"
   ]
  },
  {
   "cell_type": "code",
   "execution_count": 109,
   "id": "464d4039-d746-44e1-bb66-37474e0a9364",
   "metadata": {},
   "outputs": [],
   "source": [
    "# Convert my Tag/Label to tag_index\n",
    "y_test = [[tag2idx.get(ele[1], tag2idx[\"UNK\"]) for ele in sentence] for sentence in test_data]\n",
    "# Padding each label to have same length\n",
    "y_test = pad_sequences(\n",
    "            maxlen = 100,\n",
    "            sequences = y_test,\n",
    "            padding = \"post\",\n",
    "            dtype = \"float32\"\n",
    ")\n"
   ]
  },
  {
   "cell_type": "code",
   "execution_count": 110,
   "id": "e0fd6a61-266c-4870-99fc-f51928ce5cf9",
   "metadata": {},
   "outputs": [
    {
     "name": "stdout",
     "output_type": "stream",
     "text": [
      "121/121 [==============================] - 8s 64ms/step\n"
     ]
    }
   ],
   "source": [
    "# Predict probabilities\n",
    "y_test_prob_pred = wv_ner_model.predict(X_test)\n",
    "\n",
    "# Convert probabilities to class predictions (for multi-class classification)\n",
    "y_test_pred = np.argmax(y_test_pred_prob, axis=2)\n"
   ]
  },
  {
   "cell_type": "code",
   "execution_count": 111,
   "id": "eb04522e-d17a-4a23-bc1a-3b353dc6ad60",
   "metadata": {},
   "outputs": [
    {
     "data": {
      "text/plain": [
       "(3849, 75, 23)"
      ]
     },
     "execution_count": 111,
     "metadata": {},
     "output_type": "execute_result"
    }
   ],
   "source": [
    "y_test_pred_prob.shape"
   ]
  },
  {
   "cell_type": "code",
   "execution_count": 112,
   "id": "3f7e3c60-929e-4d6c-8b4d-7e65e866b57b",
   "metadata": {},
   "outputs": [
    {
     "data": {
      "text/plain": [
       "array([21.,  4.,  4.,  4.,  4.,  4., 12., 12., 12., 12., 12., 12., 12.,\n",
       "       12., 12., 12., 12., 12., 12., 12., 12., 12., 12., 12., 12., 12.,\n",
       "        0.,  0.,  0.,  0.,  0.,  0.,  0.,  0.,  0.,  0.,  0.,  0.,  0.,\n",
       "        0.,  0.,  0.,  0.,  0.,  0.,  0.,  0.,  0.,  0.,  0.,  0.,  0.,\n",
       "        0.,  0.,  0.,  0.,  0.,  0.,  0.,  0.,  0.,  0.,  0.,  0.,  0.,\n",
       "        0.,  0.,  0.,  0.,  0.,  0.,  0.,  0.,  0.,  0.,  0.,  0.,  0.,\n",
       "        0.,  0.,  0.,  0.,  0.,  0.,  0.,  0.,  0.,  0.,  0.,  0.,  0.,\n",
       "        0.,  0.,  0.,  0.,  0.,  0.,  0.,  0.,  0.], dtype=float32)"
      ]
     },
     "execution_count": 112,
     "metadata": {},
     "output_type": "execute_result"
    }
   ],
   "source": [
    "y_test[0]"
   ]
  },
  {
   "cell_type": "code",
   "execution_count": 113,
   "id": "f98661dc-84b3-4021-a049-088757cdf1c5",
   "metadata": {},
   "outputs": [
    {
     "data": {
      "text/plain": [
       "array([12, 12, 12, 12, 12, 12, 12, 12, 12, 12, 12, 12, 12, 12, 12, 12, 12,\n",
       "       12, 12, 12, 12, 12, 12, 12, 12, 12,  0,  0,  0,  0,  0,  0,  0,  0,\n",
       "        0,  0,  0,  0,  0,  0,  0,  0,  0,  0,  0,  0,  0,  0,  0,  0,  0,\n",
       "        0,  0,  0,  0,  0,  0,  0,  0,  0,  0,  0,  0,  0,  0,  0,  0,  0,\n",
       "        0,  0,  0,  0,  0,  0,  0], dtype=int64)"
      ]
     },
     "execution_count": 113,
     "metadata": {},
     "output_type": "execute_result"
    }
   ],
   "source": [
    "y_test_pred[0]"
   ]
  },
  {
   "cell_type": "code",
   "execution_count": 114,
   "id": "92fb61e0-80b3-460d-ad49-0fe014ed5be3",
   "metadata": {},
   "outputs": [
    {
     "data": {
      "text/plain": [
       "array([12., 12., 12., 12., 12., 12., 12., 12., 12., 12.,  0.,  0.,  0.,\n",
       "        0.,  0.,  0.,  0.,  0.,  0.,  0.,  0.,  0.,  0.,  0.,  0.,  0.,\n",
       "        0.,  0.,  0.,  0.,  0.,  0.,  0.,  0.,  0.,  0.,  0.,  0.,  0.,\n",
       "        0.,  0.,  0.,  0.,  0.,  0.,  0.,  0.,  0.,  0.,  0.,  0.,  0.,\n",
       "        0.,  0.,  0.,  0.,  0.,  0.,  0.,  0.,  0.,  0.,  0.,  0.,  0.,\n",
       "        0.,  0.,  0.,  0.,  0.,  0.,  0.,  0.,  0.,  0.,  0.,  0.,  0.,\n",
       "        0.,  0.,  0.,  0.,  0.,  0.,  0.,  0.,  0.,  0.,  0.,  0.,  0.,\n",
       "        0.,  0.,  0.,  0.,  0.,  0.,  0.,  0.,  0.], dtype=float32)"
      ]
     },
     "execution_count": 114,
     "metadata": {},
     "output_type": "execute_result"
    }
   ],
   "source": [
    "y_test[10]"
   ]
  },
  {
   "cell_type": "code",
   "execution_count": 115,
   "id": "b807dba4-49b2-4a0a-89cf-3be3228685d1",
   "metadata": {},
   "outputs": [
    {
     "data": {
      "text/plain": [
       "array([12, 12, 12, 12, 12, 12, 12, 12, 12, 12,  0,  0,  0,  0,  0,  0,  0,\n",
       "        0,  0,  0,  0,  0,  0,  0,  0,  0,  0,  0,  0,  0,  0,  0,  0,  0,\n",
       "        0,  0,  0,  0,  0,  0,  0,  0,  0,  0,  0,  0,  0,  0,  0,  0,  0,\n",
       "        0,  0,  0,  0,  0,  0,  0,  0,  0,  0,  0,  0,  0,  0,  0,  0,  0,\n",
       "        0,  0,  0,  0,  0,  0,  0], dtype=int64)"
      ]
     },
     "execution_count": 115,
     "metadata": {},
     "output_type": "execute_result"
    }
   ],
   "source": [
    "y_test_pred[10]"
   ]
  },
  {
   "cell_type": "code",
   "execution_count": 116,
   "id": "fe1dbb89-5fd9-470d-ba38-bde77693a912",
   "metadata": {},
   "outputs": [
    {
     "name": "stdout",
     "output_type": "stream",
     "text": [
      "Accuracy: 0.919074316582092\n"
     ]
    }
   ],
   "source": [
    "# Convert predictions and true labels, ignoring padding tokens\n",
    "y_pred_flat, y_true_flat = filter_padding(y_test_pred, y_test)\n",
    "\n",
    "# Calculate metrics\n",
    "accuracy = accuracy_score(y_true_flat, y_pred_flat)\n",
    "print(f\"Accuracy: {accuracy}\")\n"
   ]
  },
  {
   "cell_type": "code",
   "execution_count": 117,
   "id": "522db8a6-2c37-4ca8-b74c-32c2c3b60af9",
   "metadata": {},
   "outputs": [
    {
     "name": "stdout",
     "output_type": "stream",
     "text": [
      "Classification Report:\n",
      "              precision    recall  f1-score   support\n",
      "\n",
      "         2.0       0.00      0.00      0.00       375\n",
      "         3.0       0.07      0.03      0.04       132\n",
      "         4.0       0.15      0.03      0.05       415\n",
      "         5.0       0.00      0.00      0.00       270\n",
      "         6.0       0.00      0.00      0.00       106\n",
      "         7.0       0.00      0.00      0.00        39\n",
      "         9.0       0.02      0.04      0.03        25\n",
      "        10.0       0.00      0.00      0.00       229\n",
      "        11.0       0.00      0.00      0.00        29\n",
      "        12.0       0.93      0.99      0.96     45094\n",
      "        13.0       0.25      0.01      0.01       343\n",
      "        14.0       0.00      0.00      0.00       152\n",
      "        15.0       0.00      0.00      0.00        41\n",
      "        16.0       0.09      0.12      0.10       400\n",
      "        17.0       0.00      0.00      0.00        26\n",
      "        18.0       0.56      0.02      0.04       646\n",
      "        19.0       0.00      0.00      0.00       194\n",
      "        20.0       0.00      0.00      0.00       161\n",
      "        22.0       0.00      0.00      0.00       195\n",
      "\n",
      "    accuracy                           0.92     48872\n",
      "   macro avg       0.11      0.07      0.07     48872\n",
      "weighted avg       0.87      0.92      0.89     48872\n",
      "\n"
     ]
    }
   ],
   "source": [
    "print(\"Classification Report:\")\n",
    "print(classification_report(y_true_flat, y_pred_flat))"
   ]
  },
  {
   "cell_type": "code",
   "execution_count": 118,
   "id": "b5030470-99cf-483f-82ee-36e49f39cb26",
   "metadata": {},
   "outputs": [
    {
     "data": {
      "image/png": "[encoded data removed]",
      "text/plain": [
       "<Figure size 1400x700 with 2 Axes>"
      ]
     },
     "metadata": {},
     "output_type": "display_data"
    }
   ],
   "source": [
    "# Compute the confusion matrix\n",
    "conf_matrix = confusion_matrix(y_true_flat, y_pred_flat)\n",
    "# Plot the heatmap\n",
    "plt.figure(figsize=(14, 7))\n",
    "sns.heatmap(conf_matrix, annot=True, fmt='d', cmap='Blues', xticklabels=np.unique(y_true_flat), yticklabels=np.unique(y_true_flat))\n",
    "\n",
    "# Labels and title\n",
    "plt.xlabel('Predicted Labels')\n",
    "plt.ylabel('True Labels')\n",
    "plt.title('Confusion Matrix Heatmap')\n",
    "plt.show()"
   ]
  },
  {
   "cell_type": "markdown",
   "id": "fc0c5eca-6080-4299-94af-2886eec7b41e",
   "metadata": {},
   "source": [
    "**Insights**\n",
    "- Cell (12, 12) contains 44,836 correct predictions, which is orders of magnitude higher than all other labels.\n",
    "- Many off-diagonal cells in column 12 show that labels like:\n",
    "  \n",
    "        2: misclassified as 12 → 346 times\n",
    "        6: → 210 times\n",
    "        10: → 200 times\n",
    "        13: → 287 times\n",
    "        18: → 511 times\n",
    "- Several true labels have low or zero correct predictions:\n",
    "\n",
    "        Label 15: only 41 correct\n",
    "        Label 17: 23 correct\n",
    "        Label 20: 140 correct\n",
    "        Label 22: mostly misclassified"
   ]
  },
  {
   "cell_type": "markdown",
   "id": "5f6a1975-cd0e-4e36-8eed-5d46deb3b409",
   "metadata": {},
   "source": [
    "### Hyperparameter tuning for Bi-LSTM\n",
    "\n",
    "Experiment with hyperparameters such as LSTM units, learning rate, and dropout rates.\n"
   ]
  },
  {
   "cell_type": "code",
   "execution_count": 122,
   "id": "3c878663-a3a9-4a29-b3e7-c2b472d19e49",
   "metadata": {},
   "outputs": [],
   "source": [
    "X = [[word_embeddings[word] for word,tag in sentence] for sentence in data]\n",
    "\n",
    "# pad the sequences, to have same length\n",
    "X = pad_sequences(\n",
    "        maxlen = 100,\n",
    "        sequences = X,\n",
    "        padding = \"post\",\n",
    "        dtype = \"float32\")"
   ]
  },
  {
   "cell_type": "code",
   "execution_count": 123,
   "id": "88c92f60-7ef7-438a-9d6b-855709e57370",
   "metadata": {},
   "outputs": [],
   "source": [
    "# Convert my Tag/Label to tag_index\n",
    "y = [[tag2idx[ele[1]] for ele in sentence] for sentence in data]\n",
    "\n",
    "# Padding each label to have same length\n",
    "y = pad_sequences(\n",
    "        maxlen = 100,\n",
    "        sequences = y,\n",
    "        padding = \"post\",\n",
    "        value = tag2idx[\"PAD\"]\n",
    ")\n",
    "\n",
    "\n",
    "# One-Hot encode\n",
    "y = [to_categorical(i, num_classes=23) for i in y] # n_tags+1(PAD) "
   ]
  },
  {
   "cell_type": "code",
   "execution_count": 124,
   "id": "b923c03a-01c9-4c30-a5c7-3bbd8e1bced3",
   "metadata": {},
   "outputs": [
    {
     "data": {
      "text/plain": [
       "(2393, 100, 150)"
      ]
     },
     "execution_count": 124,
     "metadata": {},
     "output_type": "execute_result"
    }
   ],
   "source": [
    "X.shape"
   ]
  },
  {
   "cell_type": "code",
   "execution_count": 125,
   "id": "655bb13a-1eab-4c35-a88c-662f5963cf45",
   "metadata": {},
   "outputs": [
    {
     "data": {
      "text/plain": [
       "2393"
      ]
     },
     "execution_count": 125,
     "metadata": {},
     "output_type": "execute_result"
    }
   ],
   "source": [
    "len(y)"
   ]
  },
  {
   "cell_type": "code",
   "execution_count": 126,
   "id": "0a7ea4b6-2d41-4612-969d-13e90f89e74a",
   "metadata": {},
   "outputs": [],
   "source": [
    "# Data Splitting\n",
    "X_train, X_val, y_train, y_val = train_test_split(X, y, test_size=0.1)\n",
    "y_train = np.array(y_train)\n",
    "y_val = np.array(y_val)"
   ]
  },
  {
   "cell_type": "code",
   "execution_count": 127,
   "id": "896e7213-5e34-4295-9a7b-04a30dc1eee2",
   "metadata": {},
   "outputs": [
    {
     "data": {
      "text/plain": [
       "array([[ 0.03301679, -0.10927553,  0.12312875, ...,  0.0938032 ,\n",
       "         0.27299234,  0.16497016],\n",
       "       [ 0.27168044, -0.66052824,  0.03125929, ..., -0.4661199 ,\n",
       "         0.48964646, -0.30942366],\n",
       "       [ 0.04411539, -0.11580908, -0.01355106, ..., -0.10396848,\n",
       "         0.27436817, -0.13683335],\n",
       "       ...,\n",
       "       [ 0.        ,  0.        ,  0.        , ...,  0.        ,\n",
       "         0.        ,  0.        ],\n",
       "       [ 0.        ,  0.        ,  0.        , ...,  0.        ,\n",
       "         0.        ,  0.        ],\n",
       "       [ 0.        ,  0.        ,  0.        , ...,  0.        ,\n",
       "         0.        ,  0.        ]], dtype=float32)"
      ]
     },
     "execution_count": 127,
     "metadata": {},
     "output_type": "execute_result"
    }
   ],
   "source": [
    "X_train[0]"
   ]
  },
  {
   "cell_type": "code",
   "execution_count": 128,
   "id": "40c30fac-72ad-4a76-a135-a751e54f7bb9",
   "metadata": {},
   "outputs": [
    {
     "data": {
      "text/plain": [
       "array([[0., 0., 0., ..., 0., 0., 0.],\n",
       "       [0., 0., 0., ..., 0., 0., 0.],\n",
       "       [0., 0., 0., ..., 0., 0., 0.],\n",
       "       ...,\n",
       "       [1., 0., 0., ..., 0., 0., 0.],\n",
       "       [1., 0., 0., ..., 0., 0., 0.],\n",
       "       [1., 0., 0., ..., 0., 0., 0.]], dtype=float32)"
      ]
     },
     "execution_count": 128,
     "metadata": {},
     "output_type": "execute_result"
    }
   ],
   "source": [
    "y_train[0]"
   ]
  },
  {
   "cell_type": "code",
   "execution_count": 129,
   "id": "af3866fe-b5f7-4b5d-8bae-3f926313e789",
   "metadata": {},
   "outputs": [
    {
     "data": {
      "text/plain": [
       "(2153, 100, 150)"
      ]
     },
     "execution_count": 129,
     "metadata": {},
     "output_type": "execute_result"
    }
   ],
   "source": [
    "X_train.shape"
   ]
  },
  {
   "cell_type": "code",
   "execution_count": 130,
   "id": "e7ee1996-7ea8-4f57-8261-ff4b51903c2d",
   "metadata": {},
   "outputs": [
    {
     "data": {
      "text/plain": [
       "(2153, 100, 23)"
      ]
     },
     "execution_count": 130,
     "metadata": {},
     "output_type": "execute_result"
    }
   ],
   "source": [
    "y_train.shape"
   ]
  },
  {
   "cell_type": "code",
   "execution_count": 131,
   "id": "914df4f7-6acc-49d5-9a50-91f4c3a708fc",
   "metadata": {},
   "outputs": [
    {
     "data": {
      "text/plain": [
       "(240, 100, 150)"
      ]
     },
     "execution_count": 131,
     "metadata": {},
     "output_type": "execute_result"
    }
   ],
   "source": [
    "X_val.shape"
   ]
  },
  {
   "cell_type": "code",
   "execution_count": 132,
   "id": "82221e6c-9e3f-4eb8-83f7-406304e64c0d",
   "metadata": {},
   "outputs": [
    {
     "data": {
      "text/plain": [
       "(240, 100, 23)"
      ]
     },
     "execution_count": 132,
     "metadata": {},
     "output_type": "execute_result"
    }
   ],
   "source": [
    "y_val.shape"
   ]
  },
  {
   "cell_type": "code",
   "execution_count": 133,
   "id": "9e51714e-c32b-4132-9437-7b0ab77448be",
   "metadata": {},
   "outputs": [],
   "source": [
    "\n",
    "embedding_size = 150\n",
    "\n",
    "def build_model(lstm_units=64, dropout=0.3, learning_rate=0.001, max_len=100, embedding_dim=embedding_size):\n",
    "    input_layer = Input(shape=(max_len, embedding_dim), name='input_layer')\n",
    "\n",
    "    #BiLSTM\n",
    "    lstm_output = Bidirectional(LSTM(units=50, return_sequences=True, dropout=0.3))(input_layer)\n",
    "    lstm_output = Bidirectional(LSTM(units=50, return_sequences=True, dropout=0.3))(lstm_output)\n",
    "\n",
    "    #Dense layer\n",
    "    dense_output = TimeDistributed(Dense(64, activation=\"relu\"))(lstm_output)\n",
    "\n",
    "    #CRF layer\n",
    "    crf = CRF(23, name='crf')\n",
    "    predicted_sequence, potentials, sequence_length, crf_kernel = crf(dense_output)\n",
    "\n",
    "    model = Model(inputs=input_layer, outputs=potentials, name=\"Twitter_NER_V1\")\n",
    "\n",
    "    model.compile(\n",
    "        optimizer=AdamW(weight_decay=0.001, learning_rate=0.001),\n",
    "        loss=SigmoidFocalCrossEntropy(),\n",
    "        metrics=[\"accuracy\"]\n",
    "    )\n",
    "\n",
    "    return model\n"
   ]
  },
  {
   "cell_type": "code",
   "execution_count": 134,
   "id": "705bfc03-d1d4-4d36-bedb-86f245d8d227",
   "metadata": {},
   "outputs": [
    {
     "name": "stdout",
     "output_type": "stream",
     "text": [
      "\n",
      "Training with LSTM=64, LR=0.001, Dropout=0.3\n",
      "Epoch 1/5\n",
      "WARNING:tensorflow:Gradients do not exist for variables ['chain_kernel:0'] when minimizing the loss. If you're using `model.compile()`, did you forget to provide a `loss` argument?\n",
      "WARNING:tensorflow:Gradients do not exist for variables ['chain_kernel:0'] when minimizing the loss. If you're using `model.compile()`, did you forget to provide a `loss` argument?\n",
      "\n",
      "Epoch 1: val_accuracy improved from -inf to 0.98296, saving model to model_lstm64_lr0.001_drop0.3.h5\n",
      "68/68 - 34s - loss: 0.2140 - accuracy: 0.9564 - val_loss: 0.0256 - val_accuracy: 0.9830 - 34s/epoch - 505ms/step\n",
      "Epoch 2/5\n",
      "\n",
      "Epoch 2: val_accuracy did not improve from 0.98296\n",
      "68/68 - 18s - loss: 0.0197 - accuracy: 0.9855 - val_loss: 0.0292 - val_accuracy: 0.9726 - 18s/epoch - 263ms/step\n",
      "Epoch 3/5\n",
      "\n",
      "Epoch 3: val_accuracy improved from 0.98296 to 0.98571, saving model to model_lstm64_lr0.001_drop0.3.h5\n",
      "68/68 - 17s - loss: 0.0186 - accuracy: 0.9855 - val_loss: 0.0169 - val_accuracy: 0.9857 - 17s/epoch - 257ms/step\n",
      "Epoch 4/5\n",
      "\n",
      "Epoch 4: val_accuracy did not improve from 0.98571\n",
      "68/68 - 16s - loss: 0.0156 - accuracy: 0.9873 - val_loss: 0.0162 - val_accuracy: 0.9856 - 16s/epoch - 230ms/step\n",
      "Epoch 5/5\n",
      "\n",
      "Epoch 5: val_accuracy improved from 0.98571 to 0.98629, saving model to model_lstm64_lr0.001_drop0.3.h5\n",
      "68/68 - 16s - loss: 0.0145 - accuracy: 0.9878 - val_loss: 0.0157 - val_accuracy: 0.9863 - 16s/epoch - 241ms/step\n",
      "\n",
      "Training with LSTM=64, LR=0.001, Dropout=0.5\n",
      "Epoch 1/5\n",
      "WARNING:tensorflow:Gradients do not exist for variables ['chain_kernel:0'] when minimizing the loss. If you're using `model.compile()`, did you forget to provide a `loss` argument?\n",
      "WARNING:tensorflow:Gradients do not exist for variables ['chain_kernel:0'] when minimizing the loss. If you're using `model.compile()`, did you forget to provide a `loss` argument?\n",
      "\n",
      "Epoch 1: val_accuracy improved from -inf to 0.98367, saving model to model_lstm64_lr0.001_drop0.5.h5\n",
      "68/68 - 37s - loss: 0.2291 - accuracy: 0.9527 - val_loss: 0.0292 - val_accuracy: 0.9837 - 37s/epoch - 550ms/step\n",
      "Epoch 2/5\n",
      "\n",
      "Epoch 2: val_accuracy improved from 0.98367 to 0.98396, saving model to model_lstm64_lr0.001_drop0.5.h5\n",
      "68/68 - 21s - loss: 0.0201 - accuracy: 0.9854 - val_loss: 0.0193 - val_accuracy: 0.9840 - 21s/epoch - 304ms/step\n",
      "Epoch 3/5\n",
      "\n",
      "Epoch 3: val_accuracy improved from 0.98396 to 0.98592, saving model to model_lstm64_lr0.001_drop0.5.h5\n",
      "68/68 - 21s - loss: 0.0263 - accuracy: 0.9801 - val_loss: 0.0203 - val_accuracy: 0.9859 - 21s/epoch - 303ms/step\n",
      "Epoch 4/5\n",
      "\n",
      "Epoch 4: val_accuracy did not improve from 0.98592\n",
      "68/68 - 20s - loss: 0.0169 - accuracy: 0.9871 - val_loss: 0.0175 - val_accuracy: 0.9854 - 20s/epoch - 296ms/step\n",
      "Epoch 5/5\n",
      "\n",
      "Epoch 5: val_accuracy did not improve from 0.98592\n",
      "68/68 - 20s - loss: 0.0156 - accuracy: 0.9869 - val_loss: 0.0168 - val_accuracy: 0.9849 - 20s/epoch - 297ms/step\n",
      "\n",
      "Training with LSTM=64, LR=0.0005, Dropout=0.3\n",
      "Epoch 1/5\n",
      "WARNING:tensorflow:Gradients do not exist for variables ['chain_kernel:0'] when minimizing the loss. If you're using `model.compile()`, did you forget to provide a `loss` argument?\n",
      "WARNING:tensorflow:Gradients do not exist for variables ['chain_kernel:0'] when minimizing the loss. If you're using `model.compile()`, did you forget to provide a `loss` argument?\n",
      "\n",
      "Epoch 1: val_accuracy improved from -inf to 0.98296, saving model to model_lstm64_lr0.0005_drop0.3.h5\n",
      "68/68 - 36s - loss: 0.2386 - accuracy: 0.9484 - val_loss: 0.0250 - val_accuracy: 0.9830 - 36s/epoch - 537ms/step\n",
      "Epoch 2/5\n",
      "\n",
      "Epoch 2: val_accuracy improved from 0.98296 to 0.98429, saving model to model_lstm64_lr0.0005_drop0.3.h5\n",
      "68/68 - 21s - loss: 0.0210 - accuracy: 0.9852 - val_loss: 0.0197 - val_accuracy: 0.9843 - 21s/epoch - 308ms/step\n",
      "Epoch 3/5\n",
      "\n",
      "Epoch 3: val_accuracy improved from 0.98429 to 0.98529, saving model to model_lstm64_lr0.0005_drop0.3.h5\n",
      "68/68 - 19s - loss: 0.0167 - accuracy: 0.9863 - val_loss: 0.0171 - val_accuracy: 0.9853 - 19s/epoch - 280ms/step\n",
      "Epoch 4/5\n",
      "\n",
      "Epoch 4: val_accuracy improved from 0.98529 to 0.98567, saving model to model_lstm64_lr0.0005_drop0.3.h5\n",
      "68/68 - 19s - loss: 0.0150 - accuracy: 0.9871 - val_loss: 0.0159 - val_accuracy: 0.9857 - 19s/epoch - 281ms/step\n",
      "Epoch 5/5\n",
      "\n",
      "Epoch 5: val_accuracy improved from 0.98567 to 0.98646, saving model to model_lstm64_lr0.0005_drop0.3.h5\n",
      "68/68 - 19s - loss: 0.0146 - accuracy: 0.9875 - val_loss: 0.0164 - val_accuracy: 0.9865 - 19s/epoch - 278ms/step\n",
      "\n",
      "Training with LSTM=64, LR=0.0005, Dropout=0.5\n",
      "Epoch 1/5\n",
      "WARNING:tensorflow:Gradients do not exist for variables ['chain_kernel:0'] when minimizing the loss. If you're using `model.compile()`, did you forget to provide a `loss` argument?\n",
      "WARNING:tensorflow:Gradients do not exist for variables ['chain_kernel:0'] when minimizing the loss. If you're using `model.compile()`, did you forget to provide a `loss` argument?\n",
      "\n",
      "Epoch 1: val_accuracy improved from -inf to 0.98537, saving model to model_lstm64_lr0.0005_drop0.5.h5\n",
      "68/68 - 36s - loss: 0.1916 - accuracy: 0.9529 - val_loss: 0.0253 - val_accuracy: 0.9854 - 36s/epoch - 523ms/step\n",
      "Epoch 2/5\n",
      "\n",
      "Epoch 2: val_accuracy did not improve from 0.98537\n",
      "68/68 - 18s - loss: 0.0212 - accuracy: 0.9862 - val_loss: 0.0268 - val_accuracy: 0.9814 - 18s/epoch - 266ms/step\n",
      "Epoch 3/5\n",
      "\n",
      "Epoch 3: val_accuracy improved from 0.98537 to 0.98579, saving model to model_lstm64_lr0.0005_drop0.5.h5\n",
      "68/68 - 18s - loss: 0.0206 - accuracy: 0.9869 - val_loss: 0.0189 - val_accuracy: 0.9858 - 18s/epoch - 270ms/step\n",
      "Epoch 4/5\n",
      "\n",
      "Epoch 4: val_accuracy improved from 0.98579 to 0.98596, saving model to model_lstm64_lr0.0005_drop0.5.h5\n",
      "68/68 - 19s - loss: 0.0149 - accuracy: 0.9876 - val_loss: 0.0155 - val_accuracy: 0.9860 - 19s/epoch - 280ms/step\n",
      "Epoch 5/5\n",
      "\n",
      "Epoch 5: val_accuracy did not improve from 0.98596\n",
      "68/68 - 19s - loss: 0.0138 - accuracy: 0.9880 - val_loss: 0.0152 - val_accuracy: 0.9858 - 19s/epoch - 282ms/step\n",
      "\n",
      "Training with LSTM=128, LR=0.001, Dropout=0.3\n",
      "Epoch 1/5\n",
      "WARNING:tensorflow:Gradients do not exist for variables ['chain_kernel:0'] when minimizing the loss. If you're using `model.compile()`, did you forget to provide a `loss` argument?\n",
      "WARNING:tensorflow:Gradients do not exist for variables ['chain_kernel:0'] when minimizing the loss. If you're using `model.compile()`, did you forget to provide a `loss` argument?\n",
      "\n",
      "Epoch 1: val_accuracy improved from -inf to 0.98504, saving model to model_lstm128_lr0.001_drop0.3.h5\n",
      "68/68 - 34s - loss: 0.1477 - accuracy: 0.9602 - val_loss: 0.0212 - val_accuracy: 0.9850 - 34s/epoch - 496ms/step\n",
      "Epoch 2/5\n",
      "\n",
      "Epoch 2: val_accuracy improved from 0.98504 to 0.98625, saving model to model_lstm128_lr0.001_drop0.3.h5\n",
      "68/68 - 18s - loss: 0.0177 - accuracy: 0.9869 - val_loss: 0.0180 - val_accuracy: 0.9862 - 18s/epoch - 266ms/step\n",
      "Epoch 3/5\n",
      "\n",
      "Epoch 3: val_accuracy did not improve from 0.98625\n",
      "68/68 - 18s - loss: 0.0149 - accuracy: 0.9880 - val_loss: 0.0152 - val_accuracy: 0.9856 - 18s/epoch - 268ms/step\n",
      "Epoch 4/5\n",
      "\n",
      "Epoch 4: val_accuracy improved from 0.98625 to 0.98646, saving model to model_lstm128_lr0.001_drop0.3.h5\n",
      "68/68 - 22s - loss: 0.0137 - accuracy: 0.9879 - val_loss: 0.0141 - val_accuracy: 0.9865 - 22s/epoch - 330ms/step\n",
      "Epoch 5/5\n",
      "\n",
      "Epoch 5: val_accuracy improved from 0.98646 to 0.98679, saving model to model_lstm128_lr0.001_drop0.3.h5\n",
      "68/68 - 19s - loss: 0.0125 - accuracy: 0.9887 - val_loss: 0.0135 - val_accuracy: 0.9868 - 19s/epoch - 278ms/step\n",
      "\n",
      "Training with LSTM=128, LR=0.001, Dropout=0.5\n",
      "Epoch 1/5\n",
      "WARNING:tensorflow:Gradients do not exist for variables ['chain_kernel:0'] when minimizing the loss. If you're using `model.compile()`, did you forget to provide a `loss` argument?\n",
      "WARNING:tensorflow:Gradients do not exist for variables ['chain_kernel:0'] when minimizing the loss. If you're using `model.compile()`, did you forget to provide a `loss` argument?\n",
      "\n",
      "Epoch 1: val_accuracy improved from -inf to 0.98375, saving model to model_lstm128_lr0.001_drop0.5.h5\n",
      "68/68 - 37s - loss: 0.1704 - accuracy: 0.9627 - val_loss: 0.0224 - val_accuracy: 0.9837 - 37s/epoch - 542ms/step\n",
      "Epoch 2/5\n",
      "\n",
      "Epoch 2: val_accuracy improved from 0.98375 to 0.98546, saving model to model_lstm128_lr0.001_drop0.5.h5\n",
      "68/68 - 22s - loss: 0.0212 - accuracy: 0.9859 - val_loss: 0.0182 - val_accuracy: 0.9855 - 22s/epoch - 322ms/step\n",
      "Epoch 3/5\n",
      "\n",
      "Epoch 3: val_accuracy improved from 0.98546 to 0.98596, saving model to model_lstm128_lr0.001_drop0.5.h5\n",
      "68/68 - 22s - loss: 0.0155 - accuracy: 0.9870 - val_loss: 0.0163 - val_accuracy: 0.9860 - 22s/epoch - 320ms/step\n",
      "Epoch 4/5\n",
      "\n",
      "Epoch 4: val_accuracy improved from 0.98596 to 0.98629, saving model to model_lstm128_lr0.001_drop0.5.h5\n",
      "68/68 - 21s - loss: 0.0143 - accuracy: 0.9877 - val_loss: 0.0152 - val_accuracy: 0.9863 - 21s/epoch - 310ms/step\n",
      "Epoch 5/5\n",
      "\n",
      "Epoch 5: val_accuracy did not improve from 0.98629\n",
      "68/68 - 21s - loss: 0.0137 - accuracy: 0.9878 - val_loss: 0.0148 - val_accuracy: 0.9857 - 21s/epoch - 311ms/step\n",
      "\n",
      "Training with LSTM=128, LR=0.0005, Dropout=0.3\n",
      "Epoch 1/5\n",
      "WARNING:tensorflow:Gradients do not exist for variables ['chain_kernel:0'] when minimizing the loss. If you're using `model.compile()`, did you forget to provide a `loss` argument?\n",
      "WARNING:tensorflow:Gradients do not exist for variables ['chain_kernel:0'] when minimizing the loss. If you're using `model.compile()`, did you forget to provide a `loss` argument?\n",
      "\n",
      "Epoch 1: val_accuracy improved from -inf to 0.98292, saving model to model_lstm128_lr0.0005_drop0.3.h5\n",
      "68/68 - 43s - loss: 0.1805 - accuracy: 0.9580 - val_loss: 0.0235 - val_accuracy: 0.9829 - 43s/epoch - 638ms/step\n",
      "Epoch 2/5\n",
      "\n",
      "Epoch 2: val_accuracy improved from 0.98292 to 0.98529, saving model to model_lstm128_lr0.0005_drop0.3.h5\n",
      "68/68 - 42s - loss: 0.0212 - accuracy: 0.9855 - val_loss: 0.0185 - val_accuracy: 0.9853 - 42s/epoch - 621ms/step\n",
      "Epoch 3/5\n",
      "\n",
      "Epoch 3: val_accuracy improved from 0.98529 to 0.98579, saving model to model_lstm128_lr0.0005_drop0.3.h5\n",
      "68/68 - 43s - loss: 0.0157 - accuracy: 0.9869 - val_loss: 0.0161 - val_accuracy: 0.9858 - 43s/epoch - 637ms/step\n",
      "Epoch 4/5\n",
      "\n",
      "Epoch 4: val_accuracy improved from 0.98579 to 0.98617, saving model to model_lstm128_lr0.0005_drop0.3.h5\n",
      "68/68 - 44s - loss: 0.0144 - accuracy: 0.9874 - val_loss: 0.0155 - val_accuracy: 0.9862 - 44s/epoch - 641ms/step\n",
      "Epoch 5/5\n",
      "\n",
      "Epoch 5: val_accuracy did not improve from 0.98617\n",
      "68/68 - 42s - loss: 0.0137 - accuracy: 0.9879 - val_loss: 0.0151 - val_accuracy: 0.9854 - 42s/epoch - 624ms/step\n",
      "\n",
      "Training with LSTM=128, LR=0.0005, Dropout=0.5\n",
      "Epoch 1/5\n",
      "WARNING:tensorflow:Gradients do not exist for variables ['chain_kernel:0'] when minimizing the loss. If you're using `model.compile()`, did you forget to provide a `loss` argument?\n",
      "WARNING:tensorflow:Gradients do not exist for variables ['chain_kernel:0'] when minimizing the loss. If you're using `model.compile()`, did you forget to provide a `loss` argument?\n",
      "\n",
      "Epoch 1: val_accuracy improved from -inf to 0.98346, saving model to model_lstm128_lr0.0005_drop0.5.h5\n",
      "68/68 - 56s - loss: 0.1441 - accuracy: 0.9621 - val_loss: 0.0229 - val_accuracy: 0.9835 - 56s/epoch - 823ms/step\n",
      "Epoch 2/5\n",
      "\n",
      "Epoch 2: val_accuracy improved from 0.98346 to 0.98475, saving model to model_lstm128_lr0.0005_drop0.5.h5\n",
      "68/68 - 39s - loss: 0.0179 - accuracy: 0.9862 - val_loss: 0.0172 - val_accuracy: 0.9847 - 39s/epoch - 578ms/step\n",
      "Epoch 3/5\n",
      "\n",
      "Epoch 3: val_accuracy improved from 0.98475 to 0.98621, saving model to model_lstm128_lr0.0005_drop0.5.h5\n",
      "68/68 - 41s - loss: 0.0155 - accuracy: 0.9872 - val_loss: 0.0162 - val_accuracy: 0.9862 - 41s/epoch - 604ms/step\n",
      "Epoch 4/5\n",
      "\n",
      "Epoch 4: val_accuracy improved from 0.98621 to 0.98629, saving model to model_lstm128_lr0.0005_drop0.5.h5\n",
      "68/68 - 43s - loss: 0.0138 - accuracy: 0.9880 - val_loss: 0.0147 - val_accuracy: 0.9863 - 43s/epoch - 637ms/step\n",
      "Epoch 5/5\n",
      "\n",
      "Epoch 5: val_accuracy did not improve from 0.98629\n",
      "68/68 - 43s - loss: 0.0128 - accuracy: 0.9883 - val_loss: 0.0142 - val_accuracy: 0.9862 - 43s/epoch - 632ms/step\n"
     ]
    }
   ],
   "source": [
    "from tensorflow.keras.callbacks import ModelCheckpoint\n",
    "\n",
    "# Store results and best model tracking\n",
    "results = []\n",
    "best_val_acc = 0.0\n",
    "best_model_path = \"\"\n",
    "\n",
    "# Define your hyperparameter grid\n",
    "lstm_units_list = [64, 128]\n",
    "learning_rates = [0.001, 0.0005]\n",
    "dropouts = [0.3, 0.5]\n",
    "\n",
    "# Iterate through all combinations\n",
    "for unit in lstm_units_list:\n",
    "    for lr in learning_rates:\n",
    "        for dropout in dropouts:\n",
    "            print(f\"\\nTraining with LSTM={unit}, LR={lr}, Dropout={dropout}\")\n",
    "\n",
    "            # Build the model\n",
    "            model = build_model(lstm_units=unit, dropout=dropout, learning_rate=lr)\n",
    "\n",
    "            # Save best model for this configuration\n",
    "            model_filename = f\"model_lstm{unit}_lr{lr}_drop{dropout}.h5\"\n",
    "            checkpoint = ModelCheckpoint(\n",
    "                model_filename,\n",
    "                monitor='val_accuracy',\n",
    "                save_best_only=True,\n",
    "                save_weights_only=False,\n",
    "                mode='max',\n",
    "                verbose=1\n",
    "            )\n",
    "\n",
    "            # Train the model\n",
    "            history = model.fit(\n",
    "                X_train, y_train, validation_data=(X_val, y_val), \n",
    "                epochs=5, batch_size=32,\n",
    "                callbacks=[checkpoint],\n",
    "                verbose=2\n",
    "            )\n",
    "\n",
    "            # Get best val_accuracy for this run\n",
    "            val_acc = max(history.history['val_accuracy'])\n",
    "            val_loss = min(history.history['val_loss'])\n",
    "\n",
    "            # Track result\n",
    "            results.append({\n",
    "                'lstm_units': unit,\n",
    "                'learning_rate': lr,\n",
    "                'dropout': dropout,\n",
    "                'val_accuracy': val_acc,\n",
    "                'val_loss': val_loss,\n",
    "                'model_path': model_filename\n",
    "            })\n",
    "\n",
    "            # Update best model\n",
    "            if val_acc > best_val_acc:\n",
    "                best_val_acc = val_acc\n",
    "                best_model_path = model_filename\n"
   ]
  },
  {
   "cell_type": "code",
   "execution_count": null,
   "id": "da7992ef-6c03-45f4-877d-26c711d6640f",
   "metadata": {},
   "outputs": [],
   "source": []
  },
  {
   "cell_type": "markdown",
   "id": "cd8aadd2-146b-49e1-a5bb-6bc2d739ee7e",
   "metadata": {},
   "source": [
    "## **Using Transformers**\n",
    "\n",
    "We use 'bert-based-uncased' model from the transformers library"
   ]
  },
  {
   "cell_type": "code",
   "execution_count": null,
   "id": "3bebe385-9c43-4d8f-9f0f-dff3b41c55c9",
   "metadata": {},
   "outputs": [],
   "source": []
  },
  {
   "cell_type": "code",
   "execution_count": 135,
   "id": "3a8530c9-6b36-44cb-9a64-348d72a182ff",
   "metadata": {},
   "outputs": [
    {
     "data": {
      "text/plain": [
       "[('@SammieLynnsMom', 'O'),\n",
       " ('@tg10781', 'O'),\n",
       " ('they', 'O'),\n",
       " ('will', 'O'),\n",
       " ('be', 'O'),\n",
       " ('all', 'O'),\n",
       " ('done', 'O'),\n",
       " ('by', 'O'),\n",
       " ('Sunday', 'O'),\n",
       " ('trust', 'O'),\n",
       " ('me', 'O'),\n",
       " ('*wink*', 'O')]"
      ]
     },
     "execution_count": 135,
     "metadata": {},
     "output_type": "execute_result"
    }
   ],
   "source": [
    "data[0]"
   ]
  },
  {
   "cell_type": "code",
   "execution_count": 136,
   "id": "6df040f4-69a6-4bf8-b957-134a8602946c",
   "metadata": {},
   "outputs": [],
   "source": [
    "import torch\n",
    "from transformers import BertTokenizerFast, AutoModelForTokenClassification, TrainingArguments, Trainer, DataCollatorForTokenClassification\n",
    "from datasets import Dataset, ClassLabel, Features, Sequence, Value\n",
    "import evaluate\n",
    "import numpy as np"
   ]
  },
  {
   "cell_type": "code",
   "execution_count": 137,
   "id": "6888fc41-eef6-4a96-ad68-0813f1587df3",
   "metadata": {},
   "outputs": [],
   "source": [
    "# Separate words and labels for the Hugging Face Dataset format\n",
    "\n",
    "all_words = [[word for word, label in sentence] for sentence in data]\n",
    "all_labels = [[label for word, label in sentence] for sentence in data]"
   ]
  },
  {
   "cell_type": "code",
   "execution_count": 138,
   "id": "4c8f4e29-4e6d-4936-9023-c945b6b72594",
   "metadata": {},
   "outputs": [
    {
     "data": {
      "text/plain": [
       "['@SammieLynnsMom',\n",
       " '@tg10781',\n",
       " 'they',\n",
       " 'will',\n",
       " 'be',\n",
       " 'all',\n",
       " 'done',\n",
       " 'by',\n",
       " 'Sunday',\n",
       " 'trust',\n",
       " 'me',\n",
       " '*wink*']"
      ]
     },
     "execution_count": 138,
     "metadata": {},
     "output_type": "execute_result"
    }
   ],
   "source": [
    "all_words[0]"
   ]
  },
  {
   "cell_type": "code",
   "execution_count": 139,
   "id": "246337b7-0a66-4079-a423-6e548beec5ab",
   "metadata": {},
   "outputs": [
    {
     "data": {
      "text/plain": [
       "['O', 'O', 'O', 'O', 'O', 'O', 'O', 'O', 'O', 'O', 'O', 'O']"
      ]
     },
     "execution_count": 139,
     "metadata": {},
     "output_type": "execute_result"
    }
   ],
   "source": [
    "all_labels[0]"
   ]
  },
  {
   "cell_type": "code",
   "execution_count": 140,
   "id": "b6648a87-7413-4cff-ae7d-c6a14c770462",
   "metadata": {},
   "outputs": [],
   "source": [
    "# Create a mapping from label strings to integers\n",
    "unique_labels = sorted(list(set(label for sentence_labels in all_labels for label in sentence_labels)))\n",
    "label_to_id = {label: i for i, label in enumerate(unique_labels)}\n",
    "id_to_label = {i: label for label, i in label_to_id.items()}\n",
    "\n",
    "# Convert string labels to integer IDs\n",
    "all_label_ids = [[label_to_id[label] for label in sentence_labels] for sentence_labels in all_labels]"
   ]
  },
  {
   "cell_type": "code",
   "execution_count": 141,
   "id": "ba4672b7-be58-43ae-a08e-04519d6bb6fa",
   "metadata": {},
   "outputs": [
    {
     "data": {
      "text/plain": [
       "[20, 20, 20, 20, 20, 20, 20, 20, 20, 20, 20, 20]"
      ]
     },
     "execution_count": 141,
     "metadata": {},
     "output_type": "execute_result"
    }
   ],
   "source": [
    "all_label_ids[0]"
   ]
  },
  {
   "cell_type": "code",
   "execution_count": 142,
   "id": "40d7ad70-7722-43bb-80b0-795b96e6539a",
   "metadata": {},
   "outputs": [
    {
     "name": "stdout",
     "output_type": "stream",
     "text": [
      "{'words': ['@SammieLynnsMom', '@tg10781', 'they', 'will', 'be', 'all', 'done', 'by', 'Sunday', 'trust', 'me', '*wink*'], 'labels': [20, 20, 20, 20, 20, 20, 20, 20, 20, 20, 20, 20]}\n"
     ]
    }
   ],
   "source": [
    "# Create Hugging Face Dataset\n",
    "features = Features({\n",
    "    'words': Sequence(Value('string')),\n",
    "    'labels': Sequence(ClassLabel(names=unique_labels))\n",
    "})\n",
    "\n",
    "dataset_dict = {\n",
    "    'train': Dataset.from_dict({'words': all_words, 'labels': all_label_ids}, features=features)\n",
    "}\n",
    "\n",
    "# Example of accessing the dataset\n",
    "print(dataset_dict['train'][0])"
   ]
  },
  {
   "cell_type": "code",
   "execution_count": null,
   "id": "9df920bd-9578-4ade-aac2-f8ee4400454c",
   "metadata": {},
   "outputs": [],
   "source": []
  },
  {
   "cell_type": "markdown",
   "id": "417f792b-429b-4576-a4dc-296238c780e3",
   "metadata": {},
   "source": [
    "### **Load BertTokenizer and Define Tokenization Function**"
   ]
  },
  {
   "cell_type": "code",
   "execution_count": 168,
   "id": "adc199a8-9da0-4be3-ae49-35255663e0d0",
   "metadata": {},
   "outputs": [],
   "source": [
    "model_checkpoint = \"bert-base-uncased\"  # Or \"bert-base-cased\" if your data is cased\n",
    "tokenizer = BertTokenizerFast.from_pretrained(model_checkpoint)"
   ]
  },
  {
   "cell_type": "code",
   "execution_count": 169,
   "id": "486564c2-f8b7-4e00-9263-fd0112dcb913",
   "metadata": {},
   "outputs": [
    {
     "data": {
      "application/vnd.jupyter.widget-view+json": {
       "model_id": "e98bd315a48049a6bccf7198e9de2e49",
       "version_major": 2,
       "version_minor": 0
      },
      "text/plain": [
       "Map:   0%|          | 0/2393 [00:00<?, ? examples/s]"
      ]
     },
     "metadata": {},
     "output_type": "display_data"
    }
   ],
   "source": [
    "#defining the tokenizing function and alligning with the corresponding label\n",
    "def tokenize_and_align_labels(examples):\n",
    "    tokenized_inputs = tokenizer(\n",
    "        examples[\"words\"],\n",
    "        is_split_into_words=True, # Important: tells tokenizer inputs are pre-tokenized\n",
    "        padding=\"max_length\",     # Pad to max_length of the batch or model's max_length\n",
    "        truncation=True           # Truncate if sequence is too long\n",
    "    )\n",
    "\n",
    "    labels = []\n",
    "    for i, label in enumerate(examples[\"labels\"]):\n",
    "        word_ids = tokenized_inputs.word_ids(batch_index=i)\n",
    "        previous_word_idx = None\n",
    "        label_ids = []\n",
    "        for word_idx in word_ids:\n",
    "            # Special tokens have a word id of None. We set their label to -100 to be ignored.\n",
    "            if word_idx is None:\n",
    "                label_ids.append(-100)\n",
    "            # Only label the first token of a given word.\n",
    "            elif word_idx != previous_word_idx:\n",
    "                label_ids.append(label[word_idx])\n",
    "            # For subsequent tokens of the same word, set label to -100\n",
    "            else:\n",
    "                label_ids.append(-100)\n",
    "            previous_word_idx = word_idx\n",
    "        labels.append(label_ids)\n",
    "\n",
    "    tokenized_inputs[\"labels\"] = labels\n",
    "    return tokenized_inputs\n",
    "\n",
    "# Apply the tokenization and alignment function to your dataset\n",
    "tokenized_dataset = dataset_dict['train'].map(\n",
    "    tokenize_and_align_labels,\n",
    "    batched=True\n",
    ")\n"
   ]
  },
  {
   "cell_type": "code",
   "execution_count": 170,
   "id": "ce3aaa58-6859-481d-9b12-09a9554d8c48",
   "metadata": {},
   "outputs": [
    {
     "data": {
      "text/plain": [
       "Dataset({\n",
       "    features: ['words', 'labels', 'input_ids', 'token_type_ids', 'attention_mask'],\n",
       "    num_rows: 2393\n",
       "})"
      ]
     },
     "execution_count": 170,
     "metadata": {},
     "output_type": "execute_result"
    }
   ],
   "source": [
    "tokenized_dataset"
   ]
  },
  {
   "cell_type": "code",
   "execution_count": 171,
   "id": "615e9a8d-2e9c-4847-8e7e-cf6dfa4c4d52",
   "metadata": {},
   "outputs": [],
   "source": [
    "# Rename the 'labels' column to 'labels' as expected by the model\n",
    "tokenized_dataset = tokenized_dataset.remove_columns(['words'])\n",
    "\n",
    "#converting to PyTorch tensors\n",
    "tokenized_dataset.set_format(\"torch\")\n"
   ]
  },
  {
   "cell_type": "markdown",
   "id": "7300b4f1-dac9-440f-87a3-3727bb7fe9ae",
   "metadata": {},
   "source": [
    "**Train test split**"
   ]
  },
  {
   "cell_type": "code",
   "execution_count": 172,
   "id": "b5a2dd1b-59bd-4511-af3f-093128ea8241",
   "metadata": {},
   "outputs": [],
   "source": [
    "from datasets import DatasetDict\n",
    "ds = tokenized_dataset.train_test_split(test_size=0.2)\n",
    "train_ds = ds['train']\n",
    "test_ds = ds['test']"
   ]
  },
  {
   "cell_type": "code",
   "execution_count": 173,
   "id": "b0b7c85a-d912-40c5-9d59-6f4a98b54c38",
   "metadata": {},
   "outputs": [
    {
     "name": "stdout",
     "output_type": "stream",
     "text": [
      "Shape of Training data (1914, 4)\n",
      "Shape of Testing data (479, 4)\n"
     ]
    }
   ],
   "source": [
    "print(\"Shape of Training data\", train_ds.shape)\n",
    "print(\"Shape of Testing data\", test_ds.shape)"
   ]
  },
  {
   "cell_type": "markdown",
   "id": "89909c26-6765-4694-8ca2-0b23bbc2922e",
   "metadata": {},
   "source": [
    "**Load the Model**"
   ]
  },
  {
   "cell_type": "code",
   "execution_count": 174,
   "id": "1e3d2a74-b3f2-4ccc-b3f9-46edd6c76d4a",
   "metadata": {},
   "outputs": [
    {
     "name": "stderr",
     "output_type": "stream",
     "text": [
      "Some weights of BertForTokenClassification were not initialized from the model checkpoint at bert-base-uncased and are newly initialized: ['classifier.bias', 'classifier.weight']\n",
      "You should probably TRAIN this model on a down-stream task to be able to use it for predictions and inference.\n"
     ]
    }
   ],
   "source": [
    "num_labels = len(unique_labels)\n",
    "model = AutoModelForTokenClassification.from_pretrained(\n",
    "    model_checkpoint,\n",
    "    num_labels=num_labels,\n",
    "    id2label=id_to_label,\n",
    "    label2id=label_to_id\n",
    ")"
   ]
  },
  {
   "cell_type": "markdown",
   "id": "e9132b2c-6e7c-4e0c-80b5-57b6189ff665",
   "metadata": {},
   "source": [
    "**Define the Arguements**"
   ]
  },
  {
   "cell_type": "code",
   "execution_count": 175,
   "id": "003152dc-9a44-4d04-8c3b-1af26252dcfd",
   "metadata": {},
   "outputs": [],
   "source": [
    "training_args = TrainingArguments(\n",
    "    output_dir=\"./results\",               # directory to save checkpoints\n",
    "    evaluation_strategy=\"epoch\",          # evaluate at the end of each epoch\n",
    "    learning_rate=2e-5,\n",
    "    per_device_train_batch_size=8,\n",
    "    per_device_eval_batch_size=8,\n",
    "    num_train_epochs=3,\n",
    "    weight_decay=0.01,\n",
    "    logging_dir=\"./logs\",                 # directory for logs\n",
    "    logging_steps=10,\n",
    "    save_strategy=\"epoch\",                # save model at the end of each epoch\n",
    "    load_best_model_at_end=True,          # load the best model found during training\n",
    "    metric_for_best_model=\"f1\",           # metric to use for early stopping/best model\n",
    "    report_to=\"none\"                      # to avoid weights and bias overhead\n",
    ")"
   ]
  },
  {
   "cell_type": "markdown",
   "id": "1bc464db-801e-4a6e-b93e-fa498c687bef",
   "metadata": {},
   "source": [
    "**Define metrics**"
   ]
  },
  {
   "cell_type": "code",
   "execution_count": 176,
   "id": "5dd8dd48-c210-4c62-838d-63f6cfd2305e",
   "metadata": {},
   "outputs": [],
   "source": [
    "# Load the seqeval metric\n",
    "metric = evaluate.load(\"seqeval\")\n",
    "\n",
    "def compute_metrics(p):\n",
    "    predictions, labels = p\n",
    "    predictions = np.argmax(predictions, axis=2)\n",
    "\n",
    "    # Remove ignored index (special tokens and subsequent subword tokens)\n",
    "    true_predictions = [\n",
    "        [id_to_label[p] for (p, l) in zip(prediction, label) if l != -100]\n",
    "        for prediction, label in zip(predictions, labels)\n",
    "    ]\n",
    "    true_labels = [\n",
    "        [id_to_label[l] for (p, l) in zip(prediction, label) if l != -100]\n",
    "        for prediction, label in zip(predictions, labels)\n",
    "    ]\n",
    "\n",
    "    results = metric.compute(predictions=true_predictions, references=true_labels)\n",
    "    return {\n",
    "        \"precision\": results[\"overall_precision\"],\n",
    "        \"recall\": results[\"overall_recall\"],\n",
    "        \"f1\": results[\"overall_f1\"],\n",
    "        \"accuracy\": results[\"overall_accuracy\"],\n",
    "    }"
   ]
  },
  {
   "cell_type": "code",
   "execution_count": 177,
   "id": "f45ff1e9-c0cc-4ed7-9b11-8b21a8022549",
   "metadata": {},
   "outputs": [],
   "source": [
    "# Data collator for token classification: dynamically pads to the maximum length in a batch\n",
    "data_collator = DataCollatorForTokenClassification(tokenizer=tokenizer)\n",
    "\n",
    "# Initialize Trainer\n",
    "trainer = Trainer(\n",
    "    model=model,\n",
    "    args=training_args,\n",
    "    train_dataset=train_ds, # Use tokenized_train_dataset if you split\n",
    "    eval_dataset=test_ds,   # Use tokenized_eval_dataset if you split\n",
    "    tokenizer=tokenizer,\n",
    "    data_collator=data_collator,\n",
    "    compute_metrics=compute_metrics,\n",
    ")"
   ]
  },
  {
   "cell_type": "markdown",
   "id": "9d5fd49f-431b-4809-88b3-336565a5aeb8",
   "metadata": {},
   "source": [
    "**Save model**"
   ]
  },
  {
   "cell_type": "code",
   "execution_count": 178,
   "id": "b80cfc73-6bb9-475d-91ad-f06667c7c9ba",
   "metadata": {},
   "outputs": [
    {
     "data": {
      "text/plain": [
       "('./ner_model\\\\tokenizer_config.json',\n",
       " './ner_model\\\\special_tokens_map.json',\n",
       " './ner_model\\\\vocab.txt',\n",
       " './ner_model\\\\added_tokens.json',\n",
       " './ner_model\\\\tokenizer.json')"
      ]
     },
     "execution_count": 178,
     "metadata": {},
     "output_type": "execute_result"
    }
   ],
   "source": [
    "model.save_pretrained('./ner_model')\n",
    "tokenizer.save_pretrained('./ner_model')"
   ]
  },
  {
   "cell_type": "code",
   "execution_count": 179,
   "id": "29de9389-5c60-41fe-9002-2d1a52d9d333",
   "metadata": {},
   "outputs": [
    {
     "data": {
      "text/plain": [
       "[('i', 'B-facility'),\n",
       " ('love', 'I-other'),\n",
       " ('disney', 'B-company'),\n",
       " ('world', 'B-sportsteam'),\n",
       " ('and', 'B-musicartist'),\n",
       " ('ga', 'B-movie')]"
      ]
     },
     "execution_count": 179,
     "metadata": {},
     "output_type": "execute_result"
    }
   ],
   "source": [
    "def predict(text):\n",
    "    tokens = text.split()\n",
    "    inputs = tokenizer(tokens, return_tensors=\"pt\", is_split_into_words=True)\n",
    "    outputs = model(**inputs).logits\n",
    "    predictions = torch.argmax(outputs, dim=2)\n",
    "    labels = [id_to_label[p.item()] for p in predictions[0]]\n",
    "    return list(zip(tokens, labels))\n",
    "\n",
    "predict(\"i love disney world and ga\")\n"
   ]
  },
  {
   "cell_type": "markdown",
   "id": "508b94fa-dbfa-4f6d-8f81-f496a80a29c3",
   "metadata": {},
   "source": [
    "## **Insights**\n",
    "1. Using Bi-LSTM with CRF:\n",
    "    - Achieved high accuracy on the validation dataset.\n",
    "    - Results showed close to 99% accuracy with good recall and precision values for each entity.\n",
    "2. Comparison with Word2Vec Embeddings:\n",
    "    - Directly using pre-trained Word2Vec embeddings in a neural network resulted in lower accuracy.\n",
    "    - Incorporating a custom embedding layer and training on top of it yielded better performance."
   ]
  },
  {
   "cell_type": "markdown",
   "id": "9929d1f8-dc60-43f0-b025-018a228656b9",
   "metadata": {},
   "source": [
    "## *Question and Answers*\n",
    "\n",
    "1. **Defining the problem statements, and where can this and modications of this be used?**\n",
    " - We’ve finalized NER for over 25 entities that help social networking giants like Twitter, Instagram, Reddit, Inc., Pinterest, LinkedIn (the usual suspects) gather insights and boost user engagement. Because, obviously, understanding what people are posting is important.\n",
    "\n",
    "2. **Explain the data format (CoNLL BIO format).**\n",
    " - The CoNLL BIO format is a common structure for annotating text data for NER tasks. Each token is assigned a label indicating whether it begins (B), is inside (I), or is outside (O) of a named entity. For example:\n",
    "\n",
    "        Harry B-PER\n",
    "        \n",
    "        Potter I-PER\n",
    "        \n",
    "        was O\n",
    "        \n",
    "        a O\n",
    "        \n",
    "        student O\n",
    "        \n",
    "        Living O\n",
    "        \n",
    "        in O\n",
    "        \n",
    "        London B-geo-loc\n",
    "\n",
    "3.  **What other NER data annotation formats are available and how are they different?**\n",
    "- IOB: Similar to BIO but lacks the distinction between beginning (B) and inside (I) when there is no ambiguity.\n",
    "- BIOES: Extends BIO by adding labels for single-token entities (S) and the end of entities (E).\n",
    "- BILOU: Similar to BIOES, but uses \"L\" for the last token of an entity and \"U\" for unit-length entities.\n",
    "\n",
    "4. **Why do we need tokenization of the data in our case?**\n",
    "- Tokenization breaks text into manageable units (tokens) for processing. For NER, it ensures proper alignment of tokens with entity annotations, facilitating accurate tagging and model training.\n",
    "\n",
    "5. **What other models can you use for this task?**\n",
    "- Alternatives include spaCy, Flair, T5, GPT-4, and custom transformer-based models.\n",
    "\n",
    "6.  **Did early stopping have any e ect on the training and results?**\n",
    "- Early stopping prevents over tting, especially when training on small datasets. It ensures the model generalizes better to unseen data\n",
    "\n",
    "7. **How does the BERT model expect a pair of sentences to be processed?**\n",
    "- BERT concatenates sentences with a [SEP] token and prepends them with a  [CLS] token. The input is tokenized and converted into embeddings.\n",
    "\n",
    "8. **Why choose attention-based models over recurrent-based ones?**\n",
    "- Attention mechanisms process all tokens simultaneously, enabling better handling of long-range dependencies and faster training. RNNs process tokens sequentially, which can be slower and less effective for long texts.\n",
    "\n",
    "9. **Differentiate BERT and Simple Transformers.**\n",
    "- BERT: A transformer-based model pre-trained on masked language modeling and next-sentence prediction.\n",
    "- Simple Transformers: A Python library that simplifes the training and fine-tuning of transformer models, including BERT, for various NLP tasks"
   ]
  },
  {
   "cell_type": "code",
   "execution_count": null,
   "id": "b943c117-5246-42cd-8302-33da9cc4568c",
   "metadata": {},
   "outputs": [],
   "source": []
  }
 ],
 "metadata": {
  "kernelspec": {
   "display_name": "Python 3 (ipykernel)",
   "language": "python",
   "name": "python3"
  },
  "language_info": {
   "codemirror_mode": {
    "name": "ipython",
    "version": 3
   },
   "file_extension": ".py",
   "mimetype": "text/x-python",
   "name": "python",
   "nbconvert_exporter": "python",
   "pygments_lexer": "ipython3",
   "version": "3.11.7"
  }
 },
 "nbformat": 4,
 "nbformat_minor": 5
}
